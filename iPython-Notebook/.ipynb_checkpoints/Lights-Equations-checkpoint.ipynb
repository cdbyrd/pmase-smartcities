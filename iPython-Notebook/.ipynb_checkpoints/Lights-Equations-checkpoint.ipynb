{
 "cells": [
  {
   "cell_type": "code",
   "execution_count": 2,
   "metadata": {
    "collapsed": true
   },
   "outputs": [],
   "source": [
    "# imports  \n",
    "import pandas as pd\n",
    "import matplotlib.pyplot as plt\n",
    "import statsmodels.formula.api as smf\n",
    "import numpy as np\n",
    "\n",
    "# show charts inline\n",
    "%matplotlib inline"
   ]
  },
  {
   "cell_type": "code",
   "execution_count": 8,
   "metadata": {
    "collapsed": false
   },
   "outputs": [
    {
     "name": "stdout",
     "output_type": "stream",
     "text": [
      "[0.0001, 0.1, 0.2, 0.3, 0.4, 0.5, 0.6, 0.7, 0.8, 0.9, 1.0]\n",
      "\n",
      "Atlanta Costs\n",
      "-------------------\n",
      "Atl Maint Cost = 31536.00\n",
      "Atl Oper Cost = 18342.57\n",
      "Atl Install Cost = 637480.24\n",
      "Atl Base Cost = 258682.63\n",
      "\n",
      "Annual Values\n",
      "-------------------\n",
      "Atl Base Annual Cost = 258682.63\n",
      "Atl New Annual Cost = 113626.59\n",
      "Atl Annual Savings = 145056.04\n",
      "\n",
      "Totals\n",
      "-------------------\n",
      "Atl Total Cost = 1136265.90\n",
      "Atl Total Savings = 1450560.45\n"
     ]
    },
    {
     "data": {
      "image/png": "[encoded data removed]",
      "text/plain": [
       "<matplotlib.figure.Figure at 0x11563e438>"
      ]
     },
     "metadata": {},
     "output_type": "display_data"
    }
   ],
   "source": [
    "kc_count = 334\n",
    "atl_count = 9000\n",
    "scaler = 0.1\n",
    "\n",
    "scalers = [round(x * scaler, 1) for x in range(11)]\n",
    "scalers[0] = 0.0001\n",
    "print(scalers)\n",
    "\n",
    "def scale(num):\n",
    "    return scaler * atl_count * num\n",
    "\n",
    "def spread(num,years):\n",
    "    return num / years\n",
    "    \n",
    "#Install per pole\n",
    "install = 236576 / kc_count\n",
    "    \n",
    "#Annual per pole\n",
    "maint = 11703.36 / kc_count\n",
    "oper = 6807.13 / kc_count\n",
    "base = 96000 / kc_count\n",
    "\n",
    "atl_maint = scale(maint)\n",
    "atl_oper = scale(oper)\n",
    "atl_install = scale(install)\n",
    "atl_base = scale(base)\n",
    "print('\\nAtlanta Costs')\n",
    "print('-------------------')\n",
    "print('Atl Maint Cost = %.2f' % atl_maint)\n",
    "print('Atl Oper Cost = %.2f' % atl_oper)\n",
    "print('Atl Install Cost = %.2f' % atl_install)\n",
    "print('Atl Base Cost = %.2f' % atl_base)\n",
    "\n",
    "atl_cost = atl_maint + atl_oper + spread(atl_install,10)\n",
    "atl_benefit = atl_base - atl_cost\n",
    "\n",
    "print('\\nAnnual Values')\n",
    "print('-------------------')\n",
    "print('Atl Base Annual Cost = %.2f' % atl_base)\n",
    "print('Atl New Annual Cost = %.2f' % atl_cost)\n",
    "print('Atl Annual Savings = %.2f' % atl_benefit)\n",
    "\n",
    "atl_total_cost = atl_cost * 10\n",
    "atl_total_benefit = (atl_base * 10) - atl_total_cost\n",
    "\n",
    "print('\\nTotals')\n",
    "print('-------------------')\n",
    "print('Atl Total Cost = %.2f' % atl_total_cost)\n",
    "print('Atl Total Savings = %.2f' % atl_total_benefit)\n",
    "\n",
    "costs = [x * atl_total_cost for x in scalers]\n",
    "benefits = [x * atl_total_benefit for x in scalers]\n",
    "values = [x * (atl_total_cost - atl_total_benefit) for x in scalers]\n",
    "install_costs = [atl_install for x in scalers]\n",
    "\n",
    "plt.plot(scalers, costs, color='red', label='costs')\n",
    "plt.plot(scalers, benefits, color='green', label='savings')\n",
    "plt.plot(scalers, values, color='blue', label='net')\n",
    "plt.plot(scalers, install_costs, color='orange', label='install')\n",
    "\n",
    "plt.show()"
   ]
  },
  {
   "cell_type": "markdown",
   "metadata": {},
   "source": [
    "@Article{PER-GRA:2007,\n",
    "  Author    = {P\\'erez, Fernando and Granger, Brian E.},\n",
    "  Title     = {{IP}ython: a System for Interactive Scientific Computing},\n",
    "  Journal   = {Computing in Science and Engineering},\n",
    "  Volume    = {9},\n",
    "  Number    = {3},\n",
    "  Pages     = {21--29},\n",
    "  month     = may,\n",
    "  year      = 2007,\n",
    "  url       = \"http://ipython.org\",\n",
    "  ISSN      = \"1521-9615\",\n",
    "  doi       = {10.1109/MCSE.2007.53},\n",
    "  publisher = {IEEE Computer Society},\n",
    "}\n",
    "\n",
    "@article{Papa2007,\n",
    "  author = {Papa, David A. and Markov, Igor L.},\n",
    "  journal = {Approximation algorithms and metaheuristics},\n",
    "  pages = {1--38},\n",
    "  title = {{Hypergraph partitioning and clustering}},\n",
    "  url = {http://www.podload.org/pubs/book/part\\_survey.pdf},\n",
    "  year = {2007}\n",
    "}"
   ]
  }
 ],
 "metadata": {
  "kernelspec": {
   "display_name": "Python 3",
   "language": "python",
   "name": "python3"
  },
  "language_info": {
   "codemirror_mode": {
    "name": "ipython",
    "version": 3
   },
   "file_extension": ".py",
   "mimetype": "text/x-python",
   "name": "python",
   "nbconvert_exporter": "python",
   "pygments_lexer": "ipython3",
   "version": "3.5.1"
  }
 },
 "nbformat": 4,
 "nbformat_minor": 0
}

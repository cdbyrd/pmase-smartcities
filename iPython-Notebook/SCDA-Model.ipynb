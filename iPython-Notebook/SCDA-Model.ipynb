{
 "cells": [
  {
   "cell_type": "markdown",
   "metadata": {},
   "source": [
    "# Table of Contents\n",
    "\n",
    "1. [Overview](#Overview)\n",
    "2. [Need Statement](#Need-Statement)  \n",
    "   2.1. [System Mission](#System-Mission)  \n",
    "   2.2. [Operational Objectives](#Operational-Objectives)  \n",
    "   2.3. [Customer Needs](#Customer-Needs)  \n",
    "   2.4. [System Capabilities](#System-Capabilities)\n",
    "3. [Concept of Operations](#Concept-of-Operations)\n",
    "4. [Literature Review](#Literature-Review)\n",
    "5. [Initial Capabilities Summary](#Initial-Capabilities-Summary)  \n",
    "   5.1. [Stakeholders](#Stakeholders)  \n",
    "   5.2. [Capabilities Gaps and Overlaps or Redundancies](#Capabilities-Gaps-and-Overlaps-or-Redundancies)  \n",
    "   5.3. [Required Capabilities](#Required-Capabilities)  \n",
    "   5.4. [Non-Materiel Approaches](#Non-Materiel-Approaches)  \n",
    "   5.5. [Capabilities Summary](#Capabilities-Summary)\n",
    "6. [Model Definition](#Model-Definition)  \n",
    "   6.1. [Model Purpose](#Model-Purpose)  \n",
    "   6.2. [Model Organization](#Model-Organization)  \n",
    "   6.3. [Model Requirements](#Model-Requirements)  \n",
    "   6.4. [Model Design](#Model-Design)  \n",
    "   6.5. [Model Measurements](#Model-Measurements)  \n",
    "   6.6. [Model Implementation](#Model-Implementation)  \n",
    "   6.7. [Model Data](#Model-Data)  \n",
    "   6.8. [Model Execution](#Model-Execution)  \n",
    "   6.9. [Model Results](#Model-Results)\n",
    "7. [Recommendation](#Recommendation)\n",
    "8. [Conclusion](#Conclusion)\n",
    "9. [Resources](#Resources)\n",
    "10. [References](#References)\n",
    "11. [Appendices](#Appendices)  \n",
    "    11.1 [Appendix 1 - Supporting Applications](#Appendix-1---Supporting-Applications)  \n",
    "    11.2 [Appendix 2 - SysML Model](#Appendix-2---SysML-Model)"
   ]
  },
  {
   "cell_type": "markdown",
   "metadata": {},
   "source": [
    "# Overview"
   ]
  },
  {
   "cell_type": "markdown",
   "metadata": {},
   "source": [
    "There is a trend for municipal governments to move past providing basic services and enter the realm of Smart Cities projects.  The motivation behind this trend is twofold.  One motivation is the financial benefits for the municipality.  With a successful and targeted technology implementation it is possible to drastically reduce the ongoing maintenance and operational costs of specific municipal activities.   \n",
    "\n",
    "The second motivation is public perception of constituents in the municipality.  Citizens in a region drive the workforce.   Historically the average US worker was relatively stationary around a specific area.  However, modern generations are more willing to relocate to areas where quality jobs and a high quality of life are available.   This introduces competition among municipalities for advanced and highly paid workforce members.   These members tend to attract larger employers, and tend to be a driver for higher tax revenue for the municipality.   In order to compete in this workforce marketplace, municipalities are looking for ways to attract employers, jobs, and citizens.   Smart Cities projects are one mechanism employed to differentiate a municipality for the purpose of attracting and retaining this targeted workforce.\n",
    "\n",
    "A goal of this document is to define the current state of decision making for municipal entities within the context of Smart Cities project evaluation.   The current state is evaluated to understand the process and identify gaps between the current and ideal process for project evaluation.   Finally, a recommendation is provided as to how a proposed Smart Cities Decision Aid (SCDA) modeling tool can better assist a municipality with the decisions and evaluation tasks involved with Smart Cities project evaluation to meet the objectives of reduced operational costs, increased revenue opportunities, and increased public perception. "
   ]
  },
  {
   "cell_type": "markdown",
   "metadata": {},
   "source": [
    "# Need Statement\n",
    "\n",
    "## System Mission\n",
    "\n",
    "Municipal governments currently have limited access to rigorous and quantifiable Systems Engineering methods to evaluate costs and benefits of proposed Smart Cities infrastructure technology projects.  The current process involves informal qualitative project evaluation, which leads to sub-optimal technical, planning, and spending decisions for the municipality. \n",
    "\n",
    "Modeling and simulation can be employed to improve the decision making process around Smart City projects, enabling virtual exploration of several technology solutions with minimal upfront capital investment.   This exploration can provide a much more stable foundation evaluating specific technology investments and validating alignment with municipal master plans.   The SCDA tool attempts to provide this modeling capability to improve the Smart City infrastructure project evaluation and selection process for municipal governments.\n",
    "\n",
    "## Operational Objectives\n",
    "\n",
    "The SCDA program aims to accomplish the following objectives for an engaged municipality.\n",
    "\n",
    "1. Provide ability to evaluate municipality Smart City project _objectives, constraints, and preferences_.\n",
    "1. Provide ability to evaluate Smart City project proposals on _municipal revenue_ and _public perception_ benefits.\n",
    "1. Assist the municipality to analyze and optimize Smart City project decisions. \n",
    "\n",
    "The success of the SCDA program is largely associated with how well objectives, constraints, and preferences of the municipality can be extracted and quantified for use in later modeling and simulation activities.  Proper understanding of these inputs has a profound impact on the quality and validity of derived results from the SCDA tool.\n",
    "\n",
    "An additional success criteria for the SCDA program is the proper association of effectivness of a project to a quantifiable measure of utility.   The goal of the SCDA program is to represent benefits in constant financial terms.  In some cases this involves interpreting public perception to a financial term for model evaluation.  The success of the evaluation and proper interpretation of utility measurements will impact the effectiveness of the SCDA tool.  Program validation will focus on the consistency and accuracy of the utility measurement to ensure operational effectiveness.\n",
    "\n",
    "## Customer Needs\n",
    "\n",
    "Customers of the SCDA program are municipalities attempting to evaluate the costs and benefits of various Smart Cities project proposals.  The main problem faced by municipalities today is that they may not possess a quantifiable way to evaluate project options and understand the risks, costs, and benefits involved with a project.\n",
    "\n",
    "Lacking the ability to compare projects quantifiably, a municipality currently qualitatively compares project proposals to identify candidates for further evaluation.  In many cases the evaluation of a large project involves a pilot implementation that may or may not provide an accurate representation of the final deployment state.  The SCDA project attempts to address this customer need by providing a method to quantifiably evaluate and compare Smart Cities projects, without large upfront capital investments, and reduce the over reliance on pilot programs for project selection.\n",
    "\n",
    "## System Capabilities\n",
    "\n",
    "The SCDA tool should perform the following capabilities to address the operational objectives of the SCDA project.\n",
    "\n",
    "* Provide ability for municipalities to effectively communicate objectives and preferences\n",
    "* Identify target Smart Cities projects that align with municipality objectives, constraints, and preferences\n",
    "* Enable translation of municipality objectives and preferences to measurable utility\n",
    "* Produce a set of feasible technology solutions to a Smart City project proposal\n",
    "* Accurately evaluate overall effectiveness of technology solutions based on relating effectivness to cost\n",
    "* Accurately evaluate overall benefit of technology solutions based on relating benefit or utility to cost\n",
    "* Enable evaluation of Smart Cities technology projects based on overall utility gained"
   ]
  },
  {
   "cell_type": "markdown",
   "metadata": {},
   "source": [
    "# Concept of Operations\n",
    "\n",
    "The SCDA project will capture targeted inputs from a municipality to identify objectives, constraints, and preferences.  This information will define project requirements and begin to filter project evaluation criteria and available options.\n",
    "\n",
    "From this information a Cost-Effectiveness Analyis (CEA) is performed against the available options and target objectives.  This analysis will explore the relationship of system performance to system effectiveness.  It seeks to define the relative costs for varying levels of effectiveness towards the preferences and objectives set forth by the municipality.  Understanding the required levels of performance to make a system effective provides an initial baseline for solution alternative selection that is aligned with the constraints and objectives for a municipality.\n",
    "\n",
    "After identifying objectives, and narrowing down the possible solution space based on the CEA, the next objective of the SCDA program is to provide a Cost-Benefit Analysis (CBA).  The CBA attempts to define a monetary value for the measure of effectiveness defined against solution alternatives identified in the CEA.  The primary measures of effectiveness utilized by the SCDA program are _municipal revenue_ and _public perception_.   These measures are related to a cost through a series of models to define an overall measure of utility a muncipality can expect as a benefit for a target project and identified solutions.\n",
    "\n",
    "The CBA will include Risk Analysis (RA) models that identify cost impacts of risks associated for identified project and solution options.  The CBA will also include models that perform a full Life Cycle Cost Analysis (LCCA) for the expected Life Cycle of the project and solution options.  This additional rigor will ensure the identified project and solution options will provide benefit to the municipality throughout the life of the project, and not just focus on initial implementation benefits.\n",
    "\n",
    "The outcome of the CEA, CBA, RA, and LCCA is a final report that provides the municipality a quantitative comparison of available and feasible options that align with the objectives, constraints, and preferences of the municipality.  This information will be utilized to make objective determinations on project evaluation and selection based on solution options that provide the most overall benefit, or utility, to a municipality.\n",
    "\n",
    "The functional flow diagram below provides a high level depiction of the proposed concept of operations for the SCDA tool.\n",
    "\n",
    "<img src=\"images/Functional-Flow-Diagram.png\" alt=\"Functional Flow Diagram\" />"
   ]
  },
  {
   "cell_type": "markdown",
   "metadata": {},
   "source": [
    "### Literature Review\n",
    "\n",
    "Much has been written about Smart Cities; what they are `[1][2][3][4][5]`, methods to evaluate Smart Cities cities `[7][8][9][10]`, methods to design smarter city projects `[5]` and case studies `[1]` of other cities.  Some example projects provided by Karadag [6] were reviewed during research for the SCDA program include the following.\n",
    "\n",
    "* Lighting lamps renewed in Milan using LED\n",
    "* Danish Outdoor lighting Lab (DOLL)\n",
    "* Adelaide smart parking smart lighting \n",
    "\n",
    "The City of Atlanta is specifically looking at Smart Cities infrastructure projects that involve renewing existing public lighting infrastructure.  A similar infrastructure project occurred in Kansas City, MO `[16]`, which provides very specific cost and benefit analysis for LED lighting renewal projects.   Another project currently taking proposals is for the City of Chicago `[17]`.  The Request for Information (RFI) published by the City of Chicago provides information on many advanced use cases for Smart Cities project deployments.  Many of these use cases served as starting points for exploration into possible uses and benefits explored for the City of Atlanta.\n",
    "\n",
    "There are papers that present guidelines for Smart Cities projects and city planning.  One such papwer was produced by the European Union as a guide for the analysis of public investment projects `[11]`.  However, there is not currently a tool, method, or process to use for the evaluation and selection of Smart Cities projects.  There is strong research for how to implement specific technology solutions to Smart Cities project problems, but very little research in the area of optimizing decisions to determine the most appropriate Smart Cities infrastructure projects to pursue.\n",
    "\n",
    "To help address the lack of research and tools available for decision making when planning for Smart Cities infrastructure projects, the SCDA program initiated a project to develop a SCDA tool.  The SCDA tool intends to utilize existing research on technology solutions and customer preferences to model potential deployment scenarios.   The model will provide a municipality with information necessary to evaluate an infrastructure based on modeld costs and benefits for the project.  A municipality can then make a more informed decision on which projects to target for further evaluation.  Additionaly the municipality will have a better understanding of the expected costs and benefits of a project for proper planning for and communication of the project.\n",
    "\n",
    "To produce a useful model that can support decisions that will identify and direct Smart Cities infrastructure projects, a clear understanding of costs and benefits is required.  Data gathered from existing projects, trade studies, conference papers, and government organizations served as a basis for deriving parametric cost and benefit models to allow exploration of a design and trade space for specific technology solutions towards Smart Cities uses.  One paper that was pivotal in providing background research for cost and benefit model development was the paper by Hatcher et. al `[13]`.  The paper explores the costs and benefits of all known intelligent transportation systems implemented by municipalities up until 2014.  The paper was published by the US Department of Transportation Intelligent Transportation Systems JPO, and references an exhaustive database of specific project implementations that provide costs and benefits of the projects.   While transportation systems are not the only category of Smart Cities infrastructure projects, the research provided by this paper was invaluable to gathering adequate and accurate data for designing model equations for cost and benefit models.\n",
    "\n",
    "In addition to exploring research relating to specific quantifiable costs and benefits, expressed in financial terms, the SCDA project explored less tangible measures for benefit models.  One area of exploration involved a Quality of Life (QoL) Index proposed by Mladen `[7]`.  The numbeo.com site started by Mladen provides a definition of measures that are used to evaluate different indices that relate to the QoL for a municipality.   The different indices combine to form an aggregate QoL Index.   The data used for the equations is generated from surveys that relate to the measures that define the indices.   This data is made available through APIs exposed on the numbeo.com site.  The QoL data and APIs were a critical resource for the SCDA project.  The data and services were utilized to define a QoL calculator that was used to evalate how specific Smart Cities infrastructure projects would impact the QoL index for a municipality.  \n",
    "\n",
    "The QoL index provides an extra metric for project evaluation and allows municipalities, for the first time, to explore less tangible measures of success that may impact the perception and return of a Smart Cities project.  The SCDA project searched for research that would relate the QoL index to a financial unit of measure, so that it could be directly related to the other cost and benefit models utilized in the SCDA tool.  One paper by Albouy & Lue `[18]` suggests the existence of a \"willingness-to-pay\" index that relates to a QoL index and that where people live provides guidance as to what they are willing to pay for a specific QoL.  Another paper by Kuminoff et al `[19]` also suggest that people that reside close together have similar preferences and make similar value judgements towards items that contribute to QoL.  This paper alludes to neighborhoods with homes of common sizes and common ammenities could be used to undertand QoL and make decisions on how to judge effectiveness of public policy decisions.   However the paper stops short of providing a suggested financial reprentation of a QoL index.\n",
    "\n",
    "The SCDA project attempted to close the research gap and find a numerical relation of property and rent prices to QoL indexes for different cities in the US.  Data from numbeo.com `[7]` and zillow.com `[20]` were utilized separately to determine if any correlation could be found.  The details of this research are shown in the [Model Data](#Calculate-Financial-Impact-of-Quality-of-Life) research section, and unfortunately the data did not refelect a strong positive correlation between property values or rent prices (as defined by zillow.com and numbeo.com) and the QoL index (as defined by numbeo.com).  For the purpose of the initial version of the SCDA tool, the QoL metric is presented as an additional metric that is not directly related to a financial value.  Further research into how the QoL could be correlcated to a financial term is an area for future research."
   ]
  },
  {
   "cell_type": "markdown",
   "metadata": {},
   "source": [
    "# Initial Capabilities Summary"
   ]
  },
  {
   "cell_type": "markdown",
   "metadata": {},
   "source": [
    "## Stakeholders\n",
    "\n",
    "The following table identifies the stakeholders impacted by the current and future state of project evaluation methodologies for municipalities.\n",
    "\n",
    "|Stakeholder|Description|Impacts|\n",
    "|------------------|-------------------------|---------------------------------------|\n",
    "|Municipal Elected Leadership|Elected officials of a municipality|Main influence on project goals, evaluation, and ultimate project approval|\n",
    "|Municipal Employee Leadership|Non-Elected municipal employees|These employees lead municipal organizations involved with project evaluation, selection, and deployment|\n",
    "|Vendors & Contractors|Approved Vendor & Contractors utilized by a municipality|The capabilities of the approved vendor list may influence overall capabilites of the municipality for project delivery|\n",
    "|Municipal Residents|Residents paying taxes or utilizing services of a municipality|These residents are the primary tax base and source public perception for measuring project success|\n",
    "|Municipal Visitors|Visitors temporarily traveling to a municipality|The public perception of technology projects may impact the revenue a municipality garners from new projects|\n",
    "|Employers|Employers that employ residents of a municipality and may reside within the municipality.|Projects that attract and retain employers will impact residents|\n",
    "\n",
    "The primary motivation for all stakeholders can be reduced into financial and public perception benefits derived from any Smart Cities project.   The section below outlines the impacts and challenges each main stakeholder faces in pursuit of these stated objectives.\n",
    "\n",
    "### Municipal Elected Leadership\n",
    "\n",
    "Elected leaders of a municipality are charged with optimizing the available financial resources of the municipality to provide the most benefit to constituents of the municipality.   The number and quality of services received by constituents impacts public perception of the leadership and the muncipality as a whole.   Higher public perception drives employer, resident, and visitor demand to engage with the municipality.   This engagement, at a high level, is what drives additional revenue for the municipality.\n",
    "\n",
    "The goal of a elected official is to effectively target available financial resources to provide low cost and effective services for constituents of the municipality.  A crucial impediment to this goal is the ability of an elected official to properly evaluate the cost, effectiveness, and overall benefit (utility) of a Smart Cities project proposal.  Currently tools are not available to consistently, and quantifiably provide project proposal evaluation and relate that evaluation to an overall stakeholder measure of utility."
   ]
  },
  {
   "cell_type": "markdown",
   "metadata": {},
   "source": [
    "## Capabilities Gaps and Overlaps or Redundancies\n",
    "\n",
    "### Overlaps and Redundancies\n",
    "\n",
    "Municipal governments attempt to evaluate Smart Cities project proposals through a combination of internal and contracting resources.   In many cases government policy mandates that external organizations must participate in large scale project proposal evaluation.  This external evaluation does attempt to understand, quantify, and measure benefit of Smart Cities project proposals.  However, the concern is that each external engagement is separate, and it is difficult to compare results of multiple external contractor engagements.\n",
    "\n",
    "### Gaps\n",
    "\n",
    "Municipal governments do not have a consistent definition of an overall measure of utility for which to compare Smart Cities project proposals and evaluate their impact on the municipality.   Each project proposal from an external vendor will provide some defintion of cost.   However, this definition of cost is insufficient to compare proposals from several vendors and determine the proposal that provides the most benefit to the municipality.\n",
    "\n",
    "The first gap with the vendor defined cost is that there is not a clear way to relate that cost to a measure of effectiveness of the solution.  The effectiveness of the solution directly relates to the objectives and preferences of the municipality, and translates to a financial benefit.   The measure of effectiveness of the solution must include all possible sources of benefit and be converted into financial terms to clearly define the overall benefit to the municipality.\n",
    "\n",
    "Another gap with vendor defined cost is that it may not fully capture the constraints and risks encountered by the municipality.   Each muncipality will have unique constraints that are dictacted by regulatory policy or legal precedence.  Additionally, each muncipality with have a unique risk signature based on the political environment, financial stability, and available labor force for project implementation.  Without full evaluation of these unique constraints and risks, actual costs cannot be accurately evaluated for a proposal.\n",
    "\n",
    "Finally, vendor defined cost may not fully evaluate and account for full Life Cycle Costs (LCC).   Most proposals attempt to provide an accurate reflection of installation costs, and the vendor attempts to compare those installation costs with a proposed benefit for the system after installation.   However, most costs for a new system are incurred in the utilization and support life cycle stages.   Furthermore, retirement costs after the usable life of the system has expired must be captured in the total cost calculation for a system.\n",
    "\n",
    "Currently a municipal government does not have a consistent, quantifiable, and wholeistic perspective for evaluating the overall utility gained from a Smart Cities project proposal.  The ability of a municipality to properly evaluate cost is limited, and therefore the risk of negative public perception from failed or cost overrun projects is greatly increased. Additionally, the current benefit evaluation is incomplete.  These gaps lead to an inaccurate reflection of total utility derived from a technical solution, making project selection decisions extremely difficult and error prone for a municipality."
   ]
  },
  {
   "cell_type": "markdown",
   "metadata": {},
   "source": [
    "## Required Capabilities\n",
    "\n",
    "The SCDA program must provide the following capabilities to address the defined capability gaps.\n",
    "\n",
    "* Accurately define utility in financial terms as it pertains to a municipality's objectives and preferences\n",
    "* Accurately relate system effectiveness to financial terms for solution comparison\n",
    "* Accurately relate system benefits to financial terms for solution comparison\n",
    "* Accurately capture full life cycle costs for solution comparison"
   ]
  },
  {
   "cell_type": "markdown",
   "metadata": {},
   "source": [
    "## Non-Materiel Approaches\n",
    "\n",
    "### Doctrine\n",
    "\n",
    "Project proposal evaluation by a government entity is inherently biased towards short term costs and rewards.  Budget cycles normally do not run more than one year, so many proposals are only evaluated based on initial costs and expected benefits within near-term budget cycles.  Additonally, the public perception and support for a project is generally driven by the ability to sell a vision of benefits to the constituents of a municipality, without clear empiracle evidence of these benefits. It is difficult to fully change this mindset without transpartent tools that provide quantifiable and comparable measures of total benefits for Smart Cities project proposals.\n",
    "\n",
    "### Organization\n",
    "\n",
    "It is possible to alter the organizational structure of a municipal government and potentially privatize some of the project evaluation and implementation tasks.  However, elected officials will still need to understand the overall costs and benefits of a project to make final decisions on budget allocations for projects.   Even with a change of organizational structure this fundamental decision point will not change, and therefore cannot be avoided.\n",
    "\n",
    "### Training\n",
    "\n",
    "Training municipal governments may increase the ability to evaluate and implement specific Smart Cities technology products.  However, training does not address the identified capability gap of providing the ability to perform consistent and quantifiable cross product evaluations.\n",
    "\n",
    "### Leadership\n",
    "\n",
    "Elected leadership is not an item that is directly controllable by any overseeing entity.  Public opinion will control the elected leadership, and each leadership team may have their own priorities and directives for the municipality.  The gap of providing a transparent measure of utility for an Smart Cities project proposals still exists from one leadership team to the next.  Additionally, it is important for each team to have common definitions of utility and benefit to provide consistent support and funding for projects with long implementation windows.\n",
    "\n",
    "### Personnel\n",
    "\n",
    "Municipal entities are incentivized to optimize the use of available municipal funds.  The justifications and support for Smart Cities projects is difficult to quantify without some formal definition of utility and models that provide evaluations of expected utility for specific project options.   Without a tool to quantify benefit, it is difficult for the muncipal residents to hold the elected officials accountable, and it is difficult for the elected officials to convey the benefit derived from Smart Cities project investments.   The personnel involved in the process are not changing anytime soon, so insertion of a tool to help evaluate decisions and communicate benefit is needed.\n",
    "\n",
    "Additionally, one of the main drivers for municipal cost is for operation and maintenance of existing infrastructure.  Many Smart Cities projects aim to reduce this cost by reducing required personnel interactions.  It is possible to provide some cost savings by optimizing or limiting personnel use for infrastructure maintenance by improving policies and procedures.   This would provide some financial benefit, and possibly some public perception benefit, but it does not address the stated gaps in Smart Cities project evaluation.\n",
    "\n",
    "### Facilities\n",
    "\n",
    "In the context of Smart Cities projects, municipal facilities could relate to public works buildings, equipment utilized to maintain and support public assets, or physical public infrastructure.   It is possible to improve any and all of these items without implementing a Smart Cities technology project, but the general trend in the industry is to maximize capital investments and minimize maintenance costs through the use of Smart Cities technologies.  Without a tool to evaluate Smart Cities projects consistently, the benefit to public facilities costs is difficult to quantify."
   ]
  },
  {
   "cell_type": "markdown",
   "metadata": {},
   "source": [
    "## Capabilities Summary\n",
    "\n",
    "The capability gap for muncipal governments is clear.   Currently municipal governments do not have an accurate way to evaluate the cost and benefit of trending Smart Cities projects.  Without the ability to consitently and accurately measure benefits of projects, qualitative and subjective evaluations tend to direct short term policy decisions, leading to sub-optimal outcomes for the finances of a municipality and decreased public perception of the municipality.   \n",
    "\n",
    "Closing this capability gap would provide consistent and quantifiable definitions of benefit (utility) for a specific Smart Cities project.   Allowing objective comparision across projects and across stakeholders is critical to closing the project evaluation gap.   The SCDA program suggests implementation of an advanced set of models and simulations with the SCDA tool will drastically reduce the identified capability gap and vastly improve the ability of municipalities to evaluate and implement Smart Cities projects."
   ]
  },
  {
   "cell_type": "markdown",
   "metadata": {},
   "source": [
    "# Model Definition"
   ]
  },
  {
   "cell_type": "markdown",
   "metadata": {},
   "source": [
    "## Code Setup "
   ]
  },
  {
   "cell_type": "code",
   "execution_count": 1,
   "metadata": {
    "collapsed": false
   },
   "outputs": [],
   "source": [
    "# imports  \n",
    "import pandas as pd\n",
    "import matplotlib.pyplot as plt\n",
    "import statsmodels.formula.api as smf\n",
    "import numpy as np\n",
    "\n",
    "# show charts inline\n",
    "%matplotlib inline"
   ]
  },
  {
   "cell_type": "code",
   "execution_count": 7,
   "metadata": {
    "collapsed": false
   },
   "outputs": [
    {
     "data": {
      "text/html": [
       "<style>\n",
       "table {\n",
       "    width: auto;\n",
       "    display: inline-table;\n",
       "}\n",
       "</style>"
      ],
      "text/plain": [
       "<IPython.core.display.HTML object>"
      ]
     },
     "metadata": {},
     "output_type": "display_data"
    }
   ],
   "source": [
    "%%html\n",
    "<style>\n",
    "table {\n",
    "    width: auto;\n",
    "    display: inline-table;\n",
    "}\n",
    "</style>"
   ]
  },
  {
   "cell_type": "markdown",
   "metadata": {},
   "source": [
    "## Model Purpose\n",
    "\n",
    "To improve the decision making process around Smart City projects, modeling and simulation can be employed to virtually explore several options with minimal upfront capital investment.   This exploration can provide a much more stable foundation evaluating master plans and specific technology investments.  The SCDA tool is designed as a coordinated collection and series of models where simulations can be performed to evaluate and optimize the utility gained from various Smart Cities project proposals.   \n",
    "\n",
    "## Model Organization\n",
    "\n",
    "First the customer objectives, constraints, and preferences are codified to understand the Smart City use cases that best align with these customer objectives and preferences.   These benefits are then evaluated in a priority matrix against the architecture evaluation criteria for sensors that support Smart Cities projects.  This evaluation provides a clear definition of the target benefits a customer is aiming to achieve with the Smart Cities project under evaluation, as well as an understanding as to which sensor evaluation criteria have the most impact on achieving these benefits.\n",
    "\n",
    "Once the target benefits are defined, a Technology Market Survey (TMS) is performed to understand possible tecnology solutions to achieve the defined benefit targets.   The first part of this process involves exploring commercially available technological solutions that could be used to achieve the target benefits for the Smart Cities project.  After a larger set of technology solutions are identified, these solutions are filtered through the creation of a Technology Impact Matrix (TIM) and a Technology Compatibility Matrix (TCM).  \n",
    "\n",
    "The TIM uses a prioritization matrix to evaluate each of the technology solutions against the sensor evaluation criteria, with more focus placed on the criteria deemed most impactful to achieving the benefits defined from evaluation of the customer objectives, constraints, and preferences.   The Technology Readiness Level is also uses as a weighting factor in the TIM evaluation.  The end result of this process is that the list of available technology options is now related to their impact on architectural effectiveness.   The solutions that show the highest potential for architectural effectiveness will carry forward for further evaluation.\n",
    "\n",
    "It is possible that multiple sensors are needed to achieve the target benefits for a Smart Cities project.   In this case it a TCM is created to evaluate compatibility of multiple technology solutions.   It may not be feasible to deploy the optimal combination of sensors defined in the TIM.  The result of this model will identify where technologies are imcompatible and alternate solutions are needed.  This could require new techology solutions to be evaluated, or it may constrain the deployment capabilities of the final system.  The goal is to understand the final technology options that are feasible and will achieve the benefit targers.   These solutions will carry forward into more detailed cost models.\n",
    "\n",
    "The remaining feasible technology options undergo a risk analysis.   Each risk is identified and explored to understand the probability the risk will occur and the finacial impact of the risk.  This information is used to derive a risk associated cost for each of the technology options.\n",
    "\n",
    "Based on the technology options chosen, and the target benefits for the project, a collection of models are evaluated to understand an overall understanding of performance.   Each technology solution is capable of different performance levels.   A Cost-Effectiveness Analysis (CEA) is performed to understand the cost associated with a particular common metric of performance for each technology solution.  This will become one of the primary metrics for final evaluation and optimization of the overall SCDA model of utility.\n",
    "\n",
    "The final piece of the SCDA model of utility is a Cost-Benefit Analysis (CBA).  The CBA defines the overall benefit derived from a technology solution, as compared to the cost required to achieve that solution.   The overall cost includes all of the items discussed in the prior sections, as well as a cost derived from a Life Cycle Cost Analysis (LCCA).  In the LCCA, the cost associated with the 5 Systems Engineering Life Cycle stages (Concept, Development, Production, Utilization, Support, and Retirement) are estimated and evaluated.  A specific focus is placed on costs associated with Utilization, Support, and Retirement, as those stages are typically underserved by vendor evaluation and can represent the largest costs for a lare scale Smart Cities project.\n",
    "\n",
    "The diagram below is a visual depiction of the SCDA model process defined above.\n",
    "\n",
    "![modelOrg](images/ModelInteraction.png \"Model Interaction and Process\")"
   ]
  },
  {
   "cell_type": "markdown",
   "metadata": {},
   "source": [
    "## Model Requirements\n",
    "The SCDA tool should provide the following capabilities to address the operational objective of providing a utililty optimiztion analysis when given customer preferences, functional tasks, and physical, technical, and financial constraints to evaluate a smart city infrastructure project.  The full set of requirements for the SCDA project are listed in the SySM Model.  The SysML model is referenced in the [Resources](#Resources) section."
   ]
  },
  {
   "cell_type": "markdown",
   "metadata": {},
   "source": [
    "## Model Design\n",
    "\n",
    "The SCDA program utilizes the Value-Driven Design Framework to provide a structure for model design and implementation.   The model design for the SCDA program includes three tiers of models for evaluation.\n",
    "\n",
    "1. Benefits\n",
    "1. Design\n",
    "1. Configuration\n",
    "\n",
    "![](images/ValueDrivenDesign-Overview.png \"ValueDrivenDesign-Overview\")\n",
    "\n",
    "The _Benefits_ tier of models attempts to quantify the relationship between public perception and revenue recieved from providing a set of benefits at a specified level of performance.   The combination of cost and revenue is evaluated to provide utility, and the utility can be optimized based on the types of benefits provided.\n",
    "\n",
    "![](images/ValueDrivenDesign-OptimizeBenefits.png \"ValueDrivenDesign-OptimizeBenefits\")\n",
    "\n",
    "The _Design_ tier of models attempts to understand the different technology solutions that could be used to achieve a set of target benefits for a Smart Cities project.  Each solution would have a set of key design variables that are identified through customer preference models, and these design variables would be modeled to understand their relationship to measures of performance and cost.\n",
    "\n",
    "![](images/ValueDrivenDesign-OptimizeDesign.png \"ValueDrivenDesign-OptimizeDesign\")\n",
    "\n",
    "The _Configuration_ tier is a combination of different design solutions, to achieve possibly different benefits.  Certain technology solutions may not be compatible with others, and the optimal deployment of one technology solution may not match the optimal deployment for another solution.   \n",
    "\n",
    "![](images/ValueDrivenDesign-OptimizeConfig.png \"ValueDrivenDesign-OptimizeConfig\")\n",
    "\n",
    "An optimized combination of technology solutions, design variables, and benefits will ultimately provide maximized utility to the municipality for a Smart Cities project.   The Value-Driven Design Framework is utilized to identify this maximized utility and better inform municipalities of Smart Cities projects most aligned with their objectives, constraints, and preferences."
   ]
  },
  {
   "cell_type": "markdown",
   "metadata": {},
   "source": [
    "## Model Measurements\n",
    "\n",
    "### Costs\n",
    "The scope and timeline of the project dictated the model design must utilizes heuristic and parametric models to derive cost estimates.  This information was largely derived from similar projects infrastructure projects delivering solutions that align with the use cases of advanced lighting, traffic, and crime.   Utilizing costs from existing projects provides a baseline for evaluation that supports an adequate level of evaluation for solution evaluation.\n",
    "\n",
    "In many cases it is not possible, or even feasible to provide highly accurate analytical cost models that accurately define every component of an unprecedented system.  To work around this problem heuristic models of existing projects were evaluated to understand relationships and measures that can be used to estimate cost.   These Cost Estimating Relationships (CERs) are derived from parametric exploration of existing data to determine relations between design variables of a technology solution, and ultimate costs for delivering that solution.  \n",
    "\n",
    "Parametric models derived from past projects should provide a level of accuracy that supports decision making to determine optimal technical solutions to target in pursuit of a target set of benefits.   Additional empirical cost models are recommended after a technology solution is identified and a project is initiated to realize that solution. \n",
    "\n",
    "### Benefits\n",
    "Reviewing benefits of existing Smart City infrastructure projects, it is clear that benefits are separated into three main categories.  Each of the categories is described in more detail below.\n",
    "\n",
    "#### Cost Savings\n",
    "Cost savings are evaluated based on the existing state of a municipality.   If the municipality were to continue with operations as they are currently performed, there is a known operational cost.  This operational cost is the \"do-nothing\" cost.  This serves as the baseline for understanding cost savings of any new technology solution.\n",
    "\n",
    "Through the cost model process defined above, any new technology solution is reviewed to determine the cost of operations utilizing the new system.   Cost models should include evaluation of the Life Cycle Costs (LCC), which includes installation, operation, maintenance, support, and retirement costs.   Cost models should also account for risk and uncertainty with the LCC cost models, to produce cost estimates that are more robust.\n",
    "\n",
    "Finally the lifespan of the new system is utilized to determine a horizon for the system.   Costs for the new system are calculated and discounted over the lifespan.  The delta between the cost of the new system and the cost of operating the current system are compared to determine the total savings achieved.\n",
    "\n",
    "#### Environmental Savings\n",
    "Environmental savings relate directly to environmental benefits provided by the new system.  Tying these benefits directly to financial terms is not trivial, which is part of the reason for separating the benefits into a separate category.   While it is clear that a reduction in Carbon Dioxide is beneficial to a municipality, the direct financial gains from such a reduction are difficult to quantify.  In some cases the benefit measured here can be relational to existing environmental measurements or ongoing reduction targets.\n",
    "\n",
    "One area where environmental benefits can be measured financially is with a market based pollution regulation system.  In these systems a market value for a unit of pollution is derived based on regulatory limits and economic demand for activities that produce these pollutants.   If a Smart Cities infrastructure project reduces pollutants involved in a market based system, the financial impact is easily understood and should be viewed as a direct benefit.\n",
    "\n",
    "#### Public Perception\n",
    "Public perception is a critical benefit to public infrastructure projects, but measuring the benefit associated with positive public perception is extremely difficult.  If the public supports a project, and demand is generated to live or work in a city that provides advanced technology through public service, there are measurable financial benefits.   \n",
    "\n",
    "The method the SCDA program chose to utilize is a series of measures that equate to an overall quality of life index.  This quality of life index was created by Mladen at numbeo.com `[7]`.  Utilizing information on property values and rent prices as a reference, both Albouy & Lou `[18]` and Kuminoff et al `[19]` argued that people are willing to pay more for a higher quality of life.  The differences of property values and rent prices can be compared with the quality of life index in several cities.  This relationship provides a relationship between the two data points, and facilitates understanding quality of life in financial terms.\n",
    "\n",
    "The SCDA program utilizes the quality of life framework provided by numbeo.com to calculate quality of life.   The technology solutions evaluated will impact different measures that impact the quality of life calculation.   If quality of life can be expressed in financial terms, the impact on changes to quality of life can be modeled and expressed in the same terms as cost savings.   The SCDA program attempts to utilize this approach to capture as many possible benefits from technology solutions as possible.  This helps provide a more robust model, and a more complete cost-benefit analysis."
   ]
  },
  {
   "cell_type": "markdown",
   "metadata": {},
   "source": [
    "## Model Implementation\n",
    "\n",
    "To calculate the measures of cost and benefit defined above, models are created for each target benefit.  The target benefits are referred to below as _Use Cases_ for a Smart Cities infrastructure.  "
   ]
  },
  {
   "cell_type": "markdown",
   "metadata": {},
   "source": [
    "### Customer Preference Models\n",
    "\n",
    "Customer preferences are derived through the use of a progression tools defined by the _7 Management & Planning Tools_ framework `[53]`.  Affinity diagrams derive the possible uses, benefits, and challenges of Smart Cities projects.  Affinity Diagrams and Interrlationship Diagraphs are then used to derive the sensor evaluation criteria.   All of this information is organized into Tree Diagrams and utilized as input to Prioritization Matrices.  \n",
    "\n",
    "A Prioritization Matrix is defined to compare the possible benefits of Smart Cities projects and determine which of the identified benefits aligns most with customer objectives and preferences.\n",
    "\n",
    "Utilizing an Analytical Hierarchy Process (AHP), the identified benefits are associated to the defined sensor evaluation criteria to determine a weigthing that indicates which sensor criteria are most important or impactful in regards to achieving the target benefits.  By understanding the most impactful sensor criteria we can evaluate possible technology solutions with a Technology Market Survey (TMS).   \n",
    "\n",
    "Once possible solutions are defined a Technology Impact Matrix (TIM) is utilized to understand which of the technology options are best aligned to meet individual target benefits and conform to any customer defined constraints.   \n",
    "\n",
    "Finally a Technology Compatibility Matrix (TCM) is utilized to explore combinations of different technologies to meet higher order benefits, or to understand implementation constraints of combined technologies.  This information is distilled into the following customer preferences influence diagram.\n",
    "\n",
    "![](images/CustomerModel.png \"Customer Model\")"
   ]
  },
  {
   "cell_type": "markdown",
   "metadata": {},
   "source": [
    "### Benefit Models\n",
    "\n",
    "Once a set of benefits are identified from the customer preference models, those benefits are evaluated and quantified into financial terms.  The goal is to provide a measure of the financial impact of a benefit, or the cost a person or entity is willing to pay to achieve a benefit.\n",
    "\n",
    "Benefit models can be devided into models that quantify cost savings from a baseline operations model, and models that attempt to calculate the value of public perception as a form of revenue that can be measured and utilized in Return on Investment evaluations.  The influence diagram below represents the factors that impact benefits.\n",
    "\n",
    "![](images/BenefitModel.png \"Benefit Model Overview\")\n",
    "\n",
    "This is a generic influence diagram meant as a template for evaluation of specific use cases and technology solutions.  The design variables and measures of effectiveness for each use case and technical solution may vary.  The sections below describe the details of how the sub-models that make up the overall benefit model are defined and calculated.\n",
    "\n",
    "#### Cost Savings\n",
    "\n",
    "In most instances, the current method of performing a function is the baseline societal cost for supporting a function or a feature of a municipality.  For example, the current level of spending and effectiveness of operations of law enforcement for a municipality will result in a specific baseline level of crime.  This measure can be adjusted with process or technology changes aimed at reducing crime.  If crime is reduce, all the societal costs related to crime will also reduce.  These costs include, but are not limited to, legal personnel, lost productivity, insurance costs, and personal injury.   If crime is reduced it is logical to assume these other societal costs will also be reduced.   This reduction in societal costs from a known baseline is what the SCDA program refers to as the _Societal Benefit_.  This cost savings can be addressed as a benefit in the overall evaluation of how a technology deployment will provide benefit to a municipality.\n",
    "\n",
    "$${Societal\\_Benefit} = Cost_{base} - Cost_{new}$$\n",
    "\n",
    "#### Quality of Life\n",
    "The measure defined above as _public perception_ attempts to measure the perspective and preferences of the public towards a Smart Cities project.  The underlying assumption is that people are willing to pay more for certain public benefits, and the larger the benefit the higher the public perception measure for that benefit.  \n",
    "\n",
    "The SCDA program contents that Quality of Life (QoL) is a measure that can correlate to public perception.   If a public benefit increases the QoL for a municipality, there should be high public percpetion for the benefit.   By using QoL as a measurement for public perception, the SCDA program is able to quantify the meaning of public perception, and understand the impact of specific technology solutions towards target benefits.\n",
    "\n",
    "The overall QoL model used by the SCDA project is based on a QoL Index proposed by Mladen `[7]`.  The format of the QoL is to combine several indices that relate to life in a city, with each index made up of measurements and factors that try to define individual components to the QoL Index.   \n",
    "\n",
    "The QoL Index as utilized for SCDA project is made up of the following indices.\n",
    "\n",
    "* Climate\n",
    "* Cost of Living\n",
    "* Crime\n",
    "* Health\n",
    "* Pollution\n",
    "* Property Prices\n",
    "* Traffic\n",
    "\n",
    "Each of the indices is comprised of many different measures of effectiveness.  The technology solutions evaluated by the SCDA tool influences these measures, and in turn influence the indices and the final QoL Index.  These relations are shown in the index diagram below.\n",
    "\n",
    "![](images/Qol-Model.png \"Quality of Life Model\")\n",
    "\n",
    "Each use case is evaluated to understand which QoL measures could be impacted by the technology solution utilized to address the use case.  Ranges of impact are defined for each input measure to the QoL calculations.  These ranges are defined as a distribution, and the distributions are derived by the SCDA project based on evaluation from the team and external research into the impact of similar projects.   This distribution sets the range of of impact possible for the specific technology solution proposed for a use case.  The actual impact of a solution for a use case is defined with the following equation. \n",
    "\n",
    "$$x_{actual} \\in [x_{min},x_{max}]$$\n",
    "\n",
    "This distribution for the possible benefits to QoL measures serves as a Bayesian prior to further evaluation of models for a use case.   The overall model will evaluate financial benefits based on LCC, Risk Costs, and Cost Savings to define an overall utility for the use case.   The model will optimize the installation size and complexity based on the overall utility outcome.  The optimal utility or benefit from a cost perspective may not always align to the optimal benefit that could be delivered from a solution.\n",
    "\n",
    "The optimal utility is expressed in financial terms, but the optimal benefit is defined as a scaler (0-1) in the model.  This benefit scaler represents a percentage benefit derived from a technology solution, when the overall utility from a cost perspective is optimized.   The scaler is utilized in the QoL calculation to update the Bayesian prior distribution to further refine the actual level of benefits derived from a technology solution against a use case for a specific QoL measure.\n",
    "\n",
    "For example, one measure that impacts the pollution index is _noise and light pollution_.  If implementing a more targeted and adjustable LED streetlight will impact noise an light pollution, the bayesian prior for this solution may reflect between a 2 and 8 percent improvement based on expert opinion and results of similar projects.  The expectation, or beliefe, is that the probabilistic distribution of the actual impact is between 2 and 8 percent improvement, with a median of a 5 percent improvement (representing the triangular distribution shown below)."
   ]
  },
  {
   "cell_type": "code",
   "execution_count": 2,
   "metadata": {
    "collapsed": false
   },
   "outputs": [
    {
     "data": {
      "image/png": "[encoded data removed]",
      "text/plain": [
       "<matplotlib.figure.Figure at 0x112baa0b8>"
      ]
     },
     "metadata": {},
     "output_type": "display_data"
    }
   ],
   "source": [
    "plt.hist(np.random.triangular(2,5,8,10000), bins=200, normed=True)\n",
    "plt.show()"
   ]
  },
  {
   "cell_type": "markdown",
   "metadata": {},
   "source": [
    "After evaluating the costs and cost savings to define the utility for a technology solution in financial terms, a benefit scaler can be identified.  The cost models may determine that a full implementation of the technology solution proposed is not optimal, from a cost perspective.  The model could define an optimal deployment, from a cost perspective, of only 65 percent.   This deployment configuration will maximize cost savigs, based on the equation above, but it will constrain the possible positive impact on a QoL metric.   To capture this impact we adjust the bayesian prior to recenter the distribution based on the optimized deployment.\n",
    "\n",
    "The code below shows how the actual benefit is calculated from the initial range of possible impacts."
   ]
  },
  {
   "cell_type": "code",
   "execution_count": 3,
   "metadata": {
    "collapsed": false
   },
   "outputs": [
    {
     "name": "stdout",
     "output_type": "stream",
     "text": [
      "5.9\n"
     ]
    }
   ],
   "source": [
    "benefit_scaler = 0.65\n",
    "measure_range = range(2,9) #produces range of [2..8] inclusive\n",
    "minImpact = min(measure_range)\n",
    "maxImpact = max(measure_range)\n",
    "expectedImpact = (maxImpact - minImpact) * benefit_scaler + minImpact\n",
    "print(expectedImpact)"
   ]
  },
  {
   "cell_type": "markdown",
   "metadata": {},
   "source": [
    "The impact range of [2..8] and the benefit scaler is used to calculate an expected benefit impact of 5.6 percent.  Using the expected impact we can recenter the triangular distribution to show the updated belief as to the actual impact of the technology solution on the '`noise and light pollution`' QoL measure."
   ]
  },
  {
   "cell_type": "code",
   "execution_count": 4,
   "metadata": {
    "collapsed": false
   },
   "outputs": [
    {
     "data": {
      "image/png": "[encoded data removed]",
      "text/plain": [
       "<matplotlib.figure.Figure at 0x115b864a8>"
      ]
     },
     "metadata": {},
     "output_type": "display_data"
    }
   ],
   "source": [
    "plt.hist(np.random.triangular(minImpact,expectedImpact,maxImpact,10000), bins=200, normed=True)\n",
    "plt.show()"
   ]
  },
  {
   "cell_type": "markdown",
   "metadata": {},
   "source": [
    "The expected value for the measure is then utilized as the input for the '`noise and light pollution`' QoL measure.   This process is repeated for each of the measures impacted by the techology solution.   In some instances a technology solution will not have an impact on the baseline, and in those cases the baseline value is used without alteration.\n",
    "\n",
    "The final result of the model is a comparison with the baseline QoL index to a QoL index impacted by the expected improvements to QoL measures provided by the technology solution being evaluated for the use case.  The improvement in the QoL index is a quantifiable reference that can be used to evaluate different techology solutions and different use cases for their impact on QoL in a municipal population.\n",
    "\n",
    "> Going forward, an area for improvement is to relate the QoL index to a financial measure so it can be included in the overall benefit or utility calculation with costs and cost savings associated with the use case.   As shown below, the SCDA project proposed a correlation between property values and rent prices to the QoL index as a way to relate the QoL index to financial terms.   Unfortunately the data did not support this correlation, as shown in the [research below](#Calculate-Financial-Impact-of-Quality-of-Life)."
   ]
  },
  {
   "cell_type": "markdown",
   "metadata": {},
   "source": [
    "### Technology Cost Models\n",
    "\n",
    "Initially a Technology Market Survey is performed to find a set of technology solutions that target the identified customer preferred benefits, and that align with the key sensor criteria identified in the AHP evaluation.\n",
    "\n",
    "Once a set of feasible technology solutions are provided, a series of performance models are evaluated.  The goal is to understand the performance achieved from a technology solution, and how that aligns with the customer preferences.   Additionally the models need to equate a level of performance to a cost for further analysis."
   ]
  },
  {
   "cell_type": "markdown",
   "metadata": {},
   "source": [
    "#### Energy Cost\n",
    "\n",
    "The Energy Cost model proposes a straight calculation to understand operational cost of deployed technology solutions based on energy consumption.  The decision variables that impact the intermediate variables and outcomes of the model include design decisions that are impacted by purpose and architecture of the deployed system.\n",
    "\n",
    "![](images/EnergyModel.png \"Energy Model\")"
   ]
  },
  {
   "cell_type": "markdown",
   "metadata": {},
   "source": [
    "#### Network Cost\n",
    "\n",
    "Many Smart Cities infrastructure projects require networking to facilitate information transfer from field devices to a back office for processing, analysis, and storage.  The decision variables that are tied to the network design choices are captured in the influence diagram shown below.\n",
    "\n",
    "![](images/NetworkModel.png \"Network Model\")"
   ]
  },
  {
   "cell_type": "markdown",
   "metadata": {},
   "source": [
    "### Risk Cost Analysis\n",
    "\n",
    "The Risk Cost Analysis model attempts to quantify a cost for risks associated to a technology solution.   Each identified risk for a technology solution will have some understanding as to probability the risk will occur and impact if the risk does occur.  This information, along with some adding some uncertainty into those values, will result in an associated cost for a risk.   The aggregate of risk related costs are combined into the overall cost for a technology solution.\n",
    "\n",
    "![](images/RCA-Model.png \"Risk Cost Model\")\n",
    "\n",
    "Four critical risk parameters are identified, each with a weighting based on the use case applied, which combine to calculate the total cost of risk.  The figure above illustrates the deterministic variables that influence the four risk cost elements.\n",
    "\n",
    "1. Disruption Sensitivity\n",
    "2. Securability\n",
    "3. Real-time Capability\n",
    "4. Accessibility\n",
    "\n",
    "Considering these variables, the total annual cost of risk formula for each use case is represented in the following equation.  In the equation $i$ represents each use case (light, traffic, crime-cctv, crime-gunshot) and $W$ represents the weighting each of the risk variables has on the chosen technology solution.\n",
    "\n",
    "$${Total Risk Cost} = \\sum_i (W_{disrupt} * {RiskCost}_{disrupt} + W_{secure} * {RiskCost}_{secure} + W_{realtime} * {RiskCost}_{realtime} + W_{access} * {RiskCost}_{access})_i$$\n",
    "\n",
    "Applying methods described in [14] and engineering judgment, the cost of each risk is associated to the cost elements of the life cycle support cost that are likely impacted the risk.  The impact of a risk is identified by considering the impact of the risk on mitigating elements of life cycle support costs.  \n",
    "\n",
    "Life cycle cost elements of installation, maintenance, support, and retirement are apportioned to the risk cost elements in the equations below."
   ]
  },
  {
   "cell_type": "markdown",
   "metadata": {},
   "source": [
    "\\begin{align}\n",
    "{RiskCost}_{disrupt}& = (0.1*{LCC}_{install} + 0.7*{LCC}_{maint} + 0.2*{LCC}_{support}) * P_{disrupt} * N\\\\\n",
    "{RiskCost}_{secur}& = (0.4*{LCC}_{maint} + 0.6*{LCC}_{support}) * P_{secure} * N\\\\\n",
    "{RiskCost}_{realtime}& = (0.5*{LCC}_{install} + 0.55*{LCC}_{maint} + 0.4*{LCC}_{support}) * P_{support} * N\\\\\n",
    "{RiskCost}_{access}& = (0.1*{LCC}_{install}+ 0.4*{LCC}_{maint} + 0.4*{LCC}_{support} + 0.1*{LCC}_{retire}) * P_{access} * N\\\\\n",
    "\\end{align}\n",
    "\n",
    "Where $N$ is the number of systems installed and $P$ is the probability of a risk occurring.  The determined likelihood of each risk event is based on best available reference dataset cited in the reference section.  Data and information sourced include failure rates, outage frequencies, estimated availabilities, etc. to utlilize empirical cost modelling."
   ]
  },
  {
   "cell_type": "markdown",
   "metadata": {},
   "source": [
    "Uncertainties in probability values associated with the risk variables are identified and mitigated with Monte Carlo simulations during optimization.  Technology Readiness Levels (TRL) uncertainity factors are applied to enable risk analysis and characterization of a probability distribution of risk costs with respect to the technology reliability of each use case, per the suggestion of `[15]`.  The total cost of risk for each use case is combined with the Equivalent Annual Cost (EAC) equation as a cost uncertainty.  \n",
    "\n",
    "An alternate method of accounting for the cost of risk for EAC is referred to as the Risk Adjusted Discount Rate method.  In this method, where r in the EAC equation consists of a risk free rate plus a risk premium, r*(or, alternatively, a beta function)`[16]`. This risk premium is where the identified cost of risks can be isolated. The risk premium incorporates an approximated weight adjusted cost of capital, which represents a consideration of risk costs beyond the yearly maintenance cost.  \n",
    "\n",
    "The default risk free rate ($r$) is assumed as 5% in most models.  The resulting values of adjusted discount rate are dependent on life cycle costs and are sensitive to the maintenance costs for each technology solution.  The adjusted discount rates (ADR) for each technology solution are shown below where $r$ is the risk free rate and $p$ is the risk premium.\n",
    "\n",
    "\\begin{align}\n",
    "Lights = r * p_{Lights} = 0.0138\\\\\n",
    "Traffic = r * p_{Traffic} = 0.0076\\\\\n",
    "Crime_{CCTV} = r * p_{CCTV} = 0.0097\\\\\n",
    "Crime_{Gunshot} = r * p_{Gunshot} = 0.0369\\\\\n",
    "\\end{align}\n",
    "\n",
    "Accounting for risks in our equivalent annual cost has been modelled two ways. Either the total annual risk cost can be added as an uncertainty factor, or a risk premium can be derived and applied as an adjusted discount rate. Both methods are sensitive to life cycle costs, especially maintenance costs in particular, but variations do not show significant impact to variability of total costs."
   ]
  },
  {
   "cell_type": "markdown",
   "metadata": {},
   "source": [
    "### Annual Cost Analysis\n",
    "\n",
    "Annual costs are comprised of _Society Cost_ and _Component Cost_ elements.  Each cost element defines specific equations for each use case or technology solution.   The total cost associated with the element is the combined cost of all evaluated technology solutions in that element.\n",
    "\n",
    "Component costs for a technology solution are evaluated against risk elements (defined above) to determine a risk cost for each technology solution.  The combination of component costs and risk costs are represented as Equivalent Annual Costs (EAC).\n",
    "\n",
    "The total cost for a technology solution is defined as the sum of annual cost for _Society Cost_ and _Equivalent Annual Cost_.\n",
    "\n",
    "$${Cost}_{Total} = {Cost}_{Society} + {Cost}_{EAC}$$\n",
    "\n",
    "Equations for each cost element are defined in more detail below.  Each impact is scaled by the complexity/benefit scaler that represents the evaluated installation versus the total possible implementation.   A technology solution will have a scale of simple to complex installation.   An assumption made by the SCDA program is that additional benefit derived from a solution requires additional complexity.   Additional complexity will create additonal cost."
   ]
  },
  {
   "cell_type": "markdown",
   "metadata": {},
   "source": [
    "#### Society Cost\n",
    "\n",
    "${Soc}_{Light} = ((164120 * {Scaler}_{LED}) * ({Scaler}_{LED}+1)^{-2} ) + (878167 * (1-{Scaler}_{LED})) + {Uncertainty}_{LED}$\n",
    "${Soc}_{CCTV} = -24899880.90 * \\log ({Scaler}_{CCTV} + .0001) + 312890606.47 + {Uncertainty}_{CCTV}$\n",
    "${Soc}_{Gunshot} = -9945049.85 * \\log ({Scaler}_{Gunshot} + .0001) + 124969579.07 + {Uncertainty}_{Gunshot}$\n",
    "${Soc}_{Traffic} = -35319269.40 * \\log ({Scaler}_{Traffic} + .0001) + 443802179.85 + {Uncertainty}_{Traffic}$"
   ]
  },
  {
   "cell_type": "markdown",
   "metadata": {},
   "source": [
    "#### Component Cost\n",
    "\n",
    "##### Install Costs\n",
    "${Install}_{Light} = {Scaler}_{LED} * 708 * 9000 * (({Scaler}_{LED} + 1)^2) + {Uncertainty}_{LED}$\n",
    "${Install}_{Traffic} = {Scaler}_{Traffic} * 4000 * 9000 * (({Scaler}_{Traffic} + 1)^2) + {Uncertainty}_{Traffic}$\n",
    "${Install}_{CCTV} = {Scaler}_{CCTV} * 928 * 9000 *(({Scaler}_{CCTV} + 1)^2) + {Uncertainty}_{CCTV}$\n",
    "${Install}_{Gunshot} = {Scaler}_{Gunshot} * 11666.5 * 9000 * (({Scaler}_{Gunshot} + 1)^2) + {Uncertainty}_{Gunshot}$\n",
    "\n",
    "##### Operations and Maintenance Costs\n",
    "\n",
    "${Cost}_{Light} = ({Scaler}_{LED} * 84960 * 9000 * ({Scaler}_{LED} + 1)^2 + 365) + ((1 - {Scaler}_{LED}) *  9000 * 385200 + 547.5) + {Uncertainty}_{LED}$\n",
    "${Cost}_{Traffic} = {Scaler}_{Traffic} * 500 * 9000 * (({Scaler}_{Traffic} + 1)^2) + {Uncertainty}_{Traffic}$\n",
    "${Cost}_{CCTV} = {Scaler}_{CCTV} * 981.7 *9000 *(({Scaler}_{CCTV} + 1)^2) + {Uncertainty}_{CCTV}$\n",
    "${Cost}_{Gunshot} = {Scaler}_{Gunshot} * 12250 * 9000 * (({Scaler}_{Gunshot} + 1)^2) + {Uncertainty}_{Gunshot}$"
   ]
  },
  {
   "cell_type": "markdown",
   "metadata": {},
   "source": [
    "#### Equivalent Annual Cost\n",
    "\n",
    "The Equivalent Annual Cost (EAC) equation allows the model to merge fixed and recurring costs defined in the components cost element into a combined annual calculation.   This value also accounts for discounting the costs over time, for the lifespan of a specific technology solution.  The general form of the EAC equation is as follows.\n",
    "\n",
    "$$EAC = \\frac {NPV}{A(t,r)}$$\n",
    "\n",
    "Where the following inputs are defined.\n",
    "\n",
    "* $NPV$ : Net Present Value\n",
    "* $t$ : The expected lifetime of the component\n",
    "* $r$ : The expected annual discount rate (assumed 5%)\n",
    "* $A(t,r)$ : The present value of annuity\n",
    "\n",
    "The breakdown of the present value of annuity equation is as follows.\n",
    "\n",
    "$$A(t,r) = 1 - \\tfrac {\\tfrac {1}{(1+.05)^{10}}}{.05}$$\n",
    "\n",
    "The full EAC equation for each use case is defined in the section below.\n",
    "\n",
    "\\begin{align}\n",
    "{EAC}_{Traffic}& = \\left(\\dfrac {{Install}_{Lights}} {1 - \\tfrac {\\tfrac {1}{(1+.05)^{(17.17 * {Install}_{Lights} + 7.83)}}}{.05}}\\right) + {Cost}_{Lights}\\\\\\\\\n",
    "{EAC}_{Traffic}& = \\left(\\dfrac {{Install}_{Traffic}} {1 - \\tfrac {\\tfrac {1}{(1+.05)^{10}}}{.05}}\\right) + {Cost}_{Traffic}\\\\\\\\\n",
    "{EAC}_{CCTV}& = \\left(\\dfrac {{Install}_{CCTV}} {1 - \\tfrac {\\tfrac {1}{(1+.05)^{8}}}{.05}}\\right) + {Cost}_{CCTV}\\\\\\\\\n",
    "{EAC}_{Gunshot}& = \\left(\\dfrac {{Install}_{Gunshot}} {1 - \\tfrac {\\tfrac {1}{(1+.05)^{10}}}{.05}}\\right) + {Cost}_{Gunshot}\\\\\\\\\n",
    "\\end{align}\n"
   ]
  },
  {
   "cell_type": "markdown",
   "metadata": {},
   "source": [
    "### Life Cycle Cost Analysis\n",
    "\n",
    "The Life Cycle Cost Anaylsis (LCCA) model attemps to quantify costs for a technology solution related to the following Systems Engineering (SE) Life Cycle Stages.\n",
    "\n",
    "* Production (installation)\n",
    "* Utilization (maintenance)\n",
    "* Support\n",
    "* Retirement\n",
    "\n",
    "Costs from each of the stages, uncluding uncertainty of elements impacting cost, are modeled for each life cycle stage, and then aggregated into a final cost for further analysis.   Note that the Concept and Development life cycle stages are not included in this model, as those costs will be relatively consistent for most technology solutions, and they are relatively a small cost over the entire life cycle of a technology solution.\n",
    "\n",
    "![](images/LCCA-Model.png \"Life Cycle Cost Model\")"
   ]
  },
  {
   "cell_type": "markdown",
   "metadata": {},
   "source": [
    "### Cost-Effectiveness Analysis\n",
    "\n",
    "The goal of the Cost-Effectiveness Analysis model is to understand the relationship of performance with respect to cost.   The model should provide inside as to the cost required to meet a certain level of performance, and an understanding of where the optimal level of performance, as it relates to cost, is achieved in the design space.\n",
    "\n",
    "![](images/CEA-Model.png \"Cost-Effectiveness Analysis Model\")"
   ]
  },
  {
   "cell_type": "markdown",
   "metadata": {},
   "source": [
    "### Costs-Benefit Analysis\n",
    "\n",
    "The final model is the Cost-Benefit Analysis (CBA) model.   This model pulls together the previous cost models and benefit models into one final evaluation of total utility, or benefit of various technology solutions in financial terms.\n",
    "\n",
    "The benefit model defines how public perception, or demand, drives the logical concept of revenue for a technology solution.  That solution also carries an overall cost, represented by aggregating the various cost models.   The combination of revenue from benefits and costs will provide an overall utility for a technology solution.   \n",
    "\n",
    "Within the context of a specific target Smart Cities use case, the modeled utility can be optimized at the benefit level to understand which benefits related to that use actually provide the most utility.   The utility can also be optimized at the design level, to understand how different design variables impact performance and cost of a technology solution, which ultimately impacts overall utility.\n",
    "\n",
    "It is possible to perform a CBA on each technogy solution, but it is also possible to abstract one layer higher and perofrm a CBA on a combination of technology solutions constructed in a configuration.   Different configurations of technologies and deployment options may yield different overall utility, based on the technology interactions and compatibilities.\n",
    "\n",
    "Optimizations at the benefit, solution design, and confiugration levels are performed through simulations that explore the trade space and account for uncertainty elements in the various models.  The optimized solution is then evaluated to understand the overall utility gained, which provides the overall benefit a municipality will receive for the project, with respect to cost paid to achieve that project.   Maximizing that value will allow the municipality to understand the appropriate projects for selection.\n",
    "\n",
    "![](images/CBA-Model.png \"Cost-Benefit Analysis Model\")"
   ]
  },
  {
   "cell_type": "markdown",
   "metadata": {},
   "source": [
    "## Model Data\n",
    "\n",
    "Using the Design, Measures, and Models defined above, data is collected to support execution of the models to faciliate cost and benefit evaluation.  The focus of the SCDA tool is to quickly identify cost measures to determine which benefits and technology solutions should be pursued further.   For this reason an empirical cost model identifying all costs against a work breakdown structure (WBS) is not advised or practical.\n",
    "\n",
    "Instead, existing heuristic and parametric cost models are utilized to provide a baseline cost structure for validation of calculations in the SCDA cost models and as inputs to the benefits models.\n",
    "\n",
    "Each section below explores details of a benefit model and how that model derived data to support the stated benefit.   In some cases the data did not support theorized correlations to align a qualitative benefit to a quantitative measure of currency."
   ]
  },
  {
   "cell_type": "markdown",
   "metadata": {},
   "source": [
    "### Calculate Financial Impact of Reduced Response Times\n",
    "\n",
    "A study by Jaldell et al `[26]` reviewed emergency responses in Thailand, and tried to assess the impact of reduced response times for the entire system.  The study reviewed a database containing service calls that covered about three quarters of the entire population.  \n",
    "\n",
    "After accounting for some problems with the data set, the study categorized different responses into the following categories.\n",
    "\n",
    "* Physical Trauma\n",
    "* Medical Emergency\n",
    "* Traffic Accident\n",
    "* Others\n",
    "\n",
    "Across these categories, the the median response time was found to be around 8 minutes.   This is relatable to expectations and targets for most major US cities.  The study concluded that a 1 minute reduction in response time in the system would equate to a total of 1,634,289,000 Thai Baht.  \n",
    "\n",
    "The SCDA program scaled the results of the Thai study to align with the City of Atlanta.   The two comparable metrics were population and number of service calls.  The calculation and output of the comparison is shown below."
   ]
  },
  {
   "cell_type": "code",
   "execution_count": 5,
   "metadata": {
    "collapsed": false
   },
   "outputs": [
    {
     "name": "stdout",
     "output_type": "stream",
     "text": [
      "Savings for Atlanta is $323,506.98 per min response reduction (by population)\n",
      "Savings for Atlanta is $4,935,976.2 per min response reduction (by calls)\n",
      "Total annual savings scaled to pop in Atlanta is $718,907.16\n",
      "Total annual savings scaled to calls in Atlanta is $10,968,878.19\n",
      "Savings for Atlanta over 10 years is $7,189,071.59 (by pop)\n",
      "Discounted savings over 10 years is $5,978,867.1 (by pop)\n",
      "Savings for Atlanta over 10 years is $109,688,781.9 (by calls)\n",
      "Discounted savings over 10 years is $91,223,830.73 (by calls)\n"
     ]
    }
   ],
   "source": [
    "# Value of Response Time\n",
    "baht_to_usd=0.029\n",
    "savings_1min_baht=1634289000\n",
    "savings_1min_usd=savings_1min_baht * baht_to_usd\n",
    "thai_pop_2015=67959000\n",
    "atl_pop_2015=463878\n",
    "savings_atl_pop=(savings_1min_usd / thai_pop_2015) * atl_pop_2015\n",
    "\n",
    "# social discount rate\n",
    "sdr=0.035\n",
    "# intergenerational constant\n",
    "igc = 1\n",
    "# project expected lifespan\n",
    "lifespan = 10\n",
    "project_years = [x for x in range(lifespan+1) if x > 0]\n",
    "\n",
    "def discountFV(value,year):\n",
    "    return igc * (1/(1+sdr)**year) * value\n",
    "\n",
    "def formatUsd(usd):\n",
    "    return '{:,}'.format(round(usd,2))\n",
    "\n",
    "# Fire and EMS\n",
    "service_calls={'fire':[759,189,896,891,884,898,774,909,818,795,818,887,863],\n",
    "               'ems':[4175,4503,5526,5628,5393,5259,5402,5435,4691,5528,5180,5533,5382]}\n",
    "response_secs={'fire':[482.7-110,450-128,435-110,468-120,449-128,430-130,430-133,429-163,411-156,440-143,478-184,475-159,476-156],\n",
    "               'ems':[503-116,488-128,487-116,478-129,505-122,496-131,484-139,481-129,485-139,478-140,515-166,493-163,515-157]}\n",
    "\n",
    "annual_service_calls = sum(service_calls['fire'] + service_calls['ems'])\n",
    "annual_response_mins = sum(response_secs['fire'] + response_secs['ems']) / 60\n",
    "avg_response_mins = annual_response_mins / len(response_secs['fire'])\n",
    "\n",
    "thai_service_calls=(81101+423356+226215+18424)\n",
    "savings_atl_call=(savings_1min_usd / thai_service_calls) * annual_service_calls\n",
    "\n",
    "print(\"Savings for Atlanta is $%s per min response reduction (by population)\" % formatUsd(savings_atl_pop))\n",
    "print(\"Savings for Atlanta is $%s per min response reduction (by calls)\" % formatUsd(savings_atl_call))\n",
    "\n",
    "expected_reduction=0.2\n",
    "reduced_response_mins=avg_response_mins*expected_reduction\n",
    "\n",
    "annual_savings_atl_pop = reduced_response_mins * savings_atl_pop\n",
    "annual_savings_atl_call = reduced_response_mins * savings_atl_call\n",
    "print(\"Total annual savings scaled to pop in Atlanta is $%s\" % formatUsd(annual_savings_atl_pop))\n",
    "print(\"Total annual savings scaled to calls in Atlanta is $%s\" % formatUsd(annual_savings_atl_call))\n",
    "\n",
    "total_savings_atl_pop = sum([annual_savings_atl_pop for x in project_years])\n",
    "disc_savings_atl_pop = sum([discountFV(annual_savings_atl_pop, x) for x in project_years])\n",
    "print(\"Savings for Atlanta over 10 years is $%s (by pop)\" % formatUsd(total_savings_atl_pop))\n",
    "print(\"Discounted savings over 10 years is $%s (by pop)\" % formatUsd(disc_savings_atl_pop))\n",
    "\n",
    "total_savings_atl_call = sum([annual_savings_atl_call for x in project_years])\n",
    "disc_savings_atl_call = sum([discountFV(annual_savings_atl_call, x) for x in project_years])\n",
    "print(\"Savings for Atlanta over 10 years is $%s (by calls)\" % formatUsd(total_savings_atl_call))\n",
    "print(\"Discounted savings over 10 years is $%s (by calls)\" % formatUsd(disc_savings_atl_call))\n",
    "               "
   ]
  },
  {
   "cell_type": "markdown",
   "metadata": {},
   "source": [
    "In the calculations above assume a 20 percent reduction in response times.  The ITS Benefits, Costs, and Lessons Learned document `[13]` reviewed all known adaptive signaling projects in 2014 and determined a range of values for different benefits related to the projects.  The benefit _Reduced Travel Time_ was shown with a benefit range from 3 to 52 percent, so a 20 improvement should be a fair estimate for the scope of the project, and suffice for this benefit estimation."
   ]
  },
  {
   "cell_type": "code",
   "execution_count": 6,
   "metadata": {
    "collapsed": false,
    "scrolled": true
   },
   "outputs": [
    {
     "data": {
      "image/png": "[encoded data removed]",
      "text/plain": [
       "<matplotlib.figure.Figure at 0x11505b6a0>"
      ]
     },
     "metadata": {},
     "output_type": "display_data"
    }
   ],
   "source": [
    "def scale(usd) :\n",
    "    '''Scale the provided dollar amount to the millions'''\n",
    "    money_scale=1000000\n",
    "    return usd / money_scale\n",
    "\n",
    "per_min_sav = [scale(i) for i in [savings_atl_pop, savings_atl_call]]\n",
    "annual_sav = [scale(i) for i in [annual_savings_atl_pop, annual_savings_atl_call]]\n",
    "disc_sav = [scale(i) for i in [disc_savings_atl_pop, disc_savings_atl_call]]\n",
    "proj_sav = [scale(i) for i in [total_savings_atl_pop, total_savings_atl_call]]\n",
    "\n",
    "offset = 0.1\n",
    "bar_width = 0.4\n",
    "savings_type = ['By Population','By Service Calls']\n",
    "xs = [i + offset for i, _ in enumerate(savings_type)]\n",
    "xt = [i + bar_width for i in xs]\n",
    "\n",
    "fig, [ax1,ax2,ax3] = plt.subplots(1, 3)\n",
    "fig.set_figwidth(15)\n",
    "fig.set_figheight(5)\n",
    "fig.suptitle('Thai Study Correlation to City of Atlanta')\n",
    "\n",
    "ax1.bar(xs, per_min_sav)\n",
    "ax1.set_xlabel('Per Minute Savings')\n",
    "ax1.set_ylabel('Savings in USD ($M)')\n",
    "ax1.set_xticks(xt)\n",
    "ax1.set_xticklabels(savings_type)\n",
    "ax1.axis([0,2,0,7])\n",
    "\n",
    "ax2.bar(xs, annual_sav)\n",
    "ax2.set_xlabel('Annual Savings')\n",
    "ax2.set_xticks(xt)\n",
    "ax2.set_xticklabels(savings_type)\n",
    "\n",
    "ax3.bar(xs, proj_sav)\n",
    "ax3.set_xlabel('Projected 10yr Savings')\n",
    "ax3.set_xticks(xt)\n",
    "ax3.set_xticklabels(savings_type)\n",
    "\n",
    "plt.show()"
   ]
  },
  {
   "cell_type": "markdown",
   "metadata": {},
   "source": [
    "It is clear that the relationship of data from the study to the Atlanta population produces less benefit than the relation to Atlanta service calls.   The SCDA program determined that the more appropriate correlation is with service calls, because the most direct impact on the total reduction in response time should be more related to the number of service calls than to the total population in an area.   If a populations of two cities were exactly even, but one city had 10 times more service calls, the impact of a reduction in response times would have a much different outcome."
   ]
  },
  {
   "cell_type": "markdown",
   "metadata": {},
   "source": [
    "### Calculate Financial Impact of Quality of Life\n",
    "\n",
    "A data aggregration site called numbeo.com `[7]` provides aggregation of survey data for different cities around the world on different comparison indexes.  Each index is calculated based on the survey responses to different measures that relate to the index.  A select group of indexes are rolled up into an aggregate Quality of Life (QoL) measure.   The SCDA program utilized the framework and concepts provided by the numbeo.com indexes and QoL measure to equate QoL to a financial unit of measure.\n",
    "\n",
    "The SCDA program found multiple studies that explored the relationship of some measure to the QoL for residents to the price those residents are willing to pay for housing.   The Albouy & Lou paper `[18]` defines a \"willingness-to-pay index\" based on rent prices that are associated with workplace location and overall commuting cost.   This index, the paper defines, is higher in areas where people have an overall higher QoL, and the QoL can be related back to rent prices.\n",
    "\n",
    "The Kuminoff et. all [Policy Eval on Housing Markets ref] paper also explores the relationship of QoL to property and rent prices.  The paper attempts to show a relationship of preference between people that live in similar areas, because those people are willing to make similar choices on what to pay for a particular QoL, and they generally agree on the importance of measures that go into a QoL index.   This paper shows that preferences can be understood and estimated through housing choices.  Combined with the Albouy & Lou study, the SCDA program determined a relationship between QoL and property/rent price could be used to estimate the amount people are willing to pay for QoL. \n",
    "\n",
    "The process followed to equate QoL to financial terms started with gathering data from all available cities across the US.  The cities included varied population, area, location, and socioeconomic status of residents.   The overall QoL metric was captured at each of these cities and compared with property and rent prices in those areas.   The data was plotted on a graph and linearly regressed to understand the correlation between the variables.  This equation was then used to determine the financial value of a particular QoL index score.\n",
    "\n",
    "The SCDA Model evaluates the current baseline QoL to the new proposed QoL index, after implementing certain Smart Cities technology solutions.  This change in QoL can be calculated into a change in property/rent prices people are willing to pay.   This change in financial terms is then associated with the amount of value a technical solution will bring to a city."
   ]
  },
  {
   "cell_type": "markdown",
   "metadata": {},
   "source": [
    "#### Data Setup\n",
    "\n",
    "To develop the regression model, the first objective was to set a hypothesis.   The hypothesis we wanted to test was to determine if there was a direct correlation between property value or rent prices with a quality of life (QoL) measure.\n",
    "\n",
    "To setup the model we needed to pull data from a few different sources.  The first source was the numbeo.com site.  We utilized the available REST APIs to access the available data.   The data needed to be collected separately and then merged together in the format needed for exploration below.   Numbeo provided raw data for property and rent prices.  The data was varied by location of the structure owned or rented, and by the size of the structure by number of bedrooms. \n",
    "\n",
    "Another data set utilized in the regression modeling came from zillow.com `[20]`.   Zillow keeps a very detailed record of home sales, and they define their own value indices based on home sales and other factors.   The primary measure used from Zillow was the median home sales price, of which we captured monthly values per city, for the last year.   This data was an aggregate all types of homes Zillow tracks data against.\n",
    "\n",
    "The image below provides a basic flow of how the data was retrieved, transformed, and ultimately utilized in the regression modeling below.\n",
    "\n",
    "![](images/RegressionModelData.png \"Regression Model Data\")"
   ]
  },
  {
   "cell_type": "markdown",
   "metadata": {},
   "source": [
    "#### Explore Numbeo.com Property/Rent Price to QoL"
   ]
  },
  {
   "cell_type": "code",
   "execution_count": 7,
   "metadata": {
    "collapsed": false
   },
   "outputs": [
    {
     "data": {
      "text/html": [
       "<div>\n",
       "<table border=\"1\" class=\"dataframe\">\n",
       "  <thead>\n",
       "    <tr style=\"text-align: right;\">\n",
       "      <th></th>\n",
       "      <th>city_id</th>\n",
       "      <th>prop_avg_price</th>\n",
       "      <th>rent_avg_price</th>\n",
       "      <th>cpi_and_rent_index</th>\n",
       "      <th>cpi_index</th>\n",
       "      <th>property_price_to_income_ratio</th>\n",
       "      <th>purchasing_power_incl_rent_index</th>\n",
       "      <th>quality_of_life_index</th>\n",
       "      <th>rent_index</th>\n",
       "    </tr>\n",
       "    <tr>\n",
       "      <th>index</th>\n",
       "      <th></th>\n",
       "      <th></th>\n",
       "      <th></th>\n",
       "      <th></th>\n",
       "      <th></th>\n",
       "      <th></th>\n",
       "      <th></th>\n",
       "      <th></th>\n",
       "      <th></th>\n",
       "    </tr>\n",
       "  </thead>\n",
       "  <tbody>\n",
       "    <tr>\n",
       "      <th>1</th>\n",
       "      <td>3386</td>\n",
       "      <td>628.150608</td>\n",
       "      <td>737.500000</td>\n",
       "      <td>55.739172</td>\n",
       "      <td>85.702567</td>\n",
       "      <td>1.809120</td>\n",
       "      <td>84.239327</td>\n",
       "      <td>169.815468</td>\n",
       "      <td>21.692513</td>\n",
       "    </tr>\n",
       "    <tr>\n",
       "      <th>2</th>\n",
       "      <td>7700</td>\n",
       "      <td>1149.853690</td>\n",
       "      <td>1139.613095</td>\n",
       "      <td>59.223334</td>\n",
       "      <td>81.843946</td>\n",
       "      <td>1.637968</td>\n",
       "      <td>160.296213</td>\n",
       "      <td>212.404434</td>\n",
       "      <td>33.520097</td>\n",
       "    </tr>\n",
       "    <tr>\n",
       "      <th>3</th>\n",
       "      <td>3387</td>\n",
       "      <td>1263.271818</td>\n",
       "      <td>858.117647</td>\n",
       "      <td>46.012914</td>\n",
       "      <td>64.294231</td>\n",
       "      <td>2.514474</td>\n",
       "      <td>147.655252</td>\n",
       "      <td>191.763675</td>\n",
       "      <td>25.240309</td>\n",
       "    </tr>\n",
       "    <tr>\n",
       "      <th>4</th>\n",
       "      <td>3389</td>\n",
       "      <td>2035.723499</td>\n",
       "      <td>1506.805556</td>\n",
       "      <td>69.484310</td>\n",
       "      <td>91.630153</td>\n",
       "      <td>2.649285</td>\n",
       "      <td>149.548630</td>\n",
       "      <td>174.965188</td>\n",
       "      <td>44.320541</td>\n",
       "    </tr>\n",
       "    <tr>\n",
       "      <th>5</th>\n",
       "      <td>7859</td>\n",
       "      <td>1839.539032</td>\n",
       "      <td>1417.947330</td>\n",
       "      <td>55.380066</td>\n",
       "      <td>67.413387</td>\n",
       "      <td>2.767982</td>\n",
       "      <td>162.282375</td>\n",
       "      <td>219.055036</td>\n",
       "      <td>41.706902</td>\n",
       "    </tr>\n",
       "  </tbody>\n",
       "</table>\n",
       "</div>"
      ],
      "text/plain": [
       "       city_id  prop_avg_price  rent_avg_price  cpi_and_rent_index  cpi_index  \\\n",
       "index                                                                           \n",
       "1         3386      628.150608      737.500000           55.739172  85.702567   \n",
       "2         7700     1149.853690     1139.613095           59.223334  81.843946   \n",
       "3         3387     1263.271818      858.117647           46.012914  64.294231   \n",
       "4         3389     2035.723499     1506.805556           69.484310  91.630153   \n",
       "5         7859     1839.539032     1417.947330           55.380066  67.413387   \n",
       "\n",
       "       property_price_to_income_ratio  purchasing_power_incl_rent_index  \\\n",
       "index                                                                     \n",
       "1                            1.809120                         84.239327   \n",
       "2                            1.637968                        160.296213   \n",
       "3                            2.514474                        147.655252   \n",
       "4                            2.649285                        149.548630   \n",
       "5                            2.767982                        162.282375   \n",
       "\n",
       "       quality_of_life_index  rent_index  \n",
       "index                                     \n",
       "1                 169.815468   21.692513  \n",
       "2                 212.404434   33.520097  \n",
       "3                 191.763675   25.240309  \n",
       "4                 174.965188   44.320541  \n",
       "5                 219.055036   41.706902  "
      ]
     },
     "execution_count": 7,
     "metadata": {},
     "output_type": "execute_result"
    }
   ],
   "source": [
    "# read in data\n",
    "data = pd.read_csv('data/numbeo_export_full.csv', \n",
    "                   index_col=0, \n",
    "                   usecols=['index','city_id','prop_avg_price',\n",
    "                            'rent_avg_price','cpi_and_rent_index',\n",
    "                            'cpi_index','property_price_to_income_ratio',\n",
    "                            'purchasing_power_incl_rent_index','rent_index',\n",
    "                            'quality_of_life_index'])\n",
    "data.head()"
   ]
  },
  {
   "cell_type": "code",
   "execution_count": 8,
   "metadata": {
    "collapsed": false
   },
   "outputs": [
    {
     "data": {
      "text/plain": [
       "(104, 9)"
      ]
     },
     "execution_count": 8,
     "metadata": {},
     "output_type": "execute_result"
    }
   ],
   "source": [
    "# print the shape of the data frame\n",
    "data.shape"
   ]
  },
  {
   "cell_type": "markdown",
   "metadata": {},
   "source": [
    "##### Relation of Features to Response"
   ]
  },
  {
   "cell_type": "code",
   "execution_count": 9,
   "metadata": {
    "collapsed": false
   },
   "outputs": [
    {
     "data": {
      "text/plain": [
       "<matplotlib.axes._subplots.AxesSubplot at 0x115fbbd68>"
      ]
     },
     "execution_count": 9,
     "metadata": {},
     "output_type": "execute_result"
    },
    {
     "data": {
      "image/png": "[encoded data removed]",
      "text/plain": [
       "<matplotlib.figure.Figure at 0x115c715c0>"
      ]
     },
     "metadata": {},
     "output_type": "display_data"
    }
   ],
   "source": [
    "# visualize relationship between the features and responses\n",
    "fig, axs = plt.subplots(2, 3, sharey=True)\n",
    "data.plot(kind='scatter', x='prop_avg_price', y='quality_of_life_index', ax=axs[0][0], figsize=(16,8))\n",
    "data.plot(kind='scatter', x='rent_avg_price', y='quality_of_life_index', ax=axs[0][1])\n",
    "data.plot(kind='scatter', x='cpi_and_rent_index', y='quality_of_life_index', ax=axs[0][2])\n",
    "data.plot(kind='scatter', x='cpi_index', y='quality_of_life_index', ax=axs[1][0])\n",
    "data.plot(kind='scatter', x='property_price_to_income_ratio', y='quality_of_life_index', ax=axs[1][1])\n",
    "data.plot(kind='scatter', x='purchasing_power_incl_rent_index', y='quality_of_life_index', ax=axs[1][2])"
   ]
  },
  {
   "cell_type": "markdown",
   "metadata": {},
   "source": [
    "This doesn't look like much of a correlation, are least not much of a positive correlation.   There seem to be some data points that are clustered around a common property price, but that is probably more indicative of a general trend of a specific cost per square foot that is more affordable.\n",
    "\n",
    "The online relationship that looks promising is the purchasing power index, which is a measure of the purchasing power of a person in a city, including rent and other major costs.  The correlation does appear to be positive in relation to QoL.\n",
    "\n",
    "The unfortunate reality is that we only have about 100 data points where the overall metric of quality of life is scored, based on the numbeo.com data.   Further exploration below will into other data sets to determine if there are additional data points that can correlation and help explain QoL measures."
   ]
  },
  {
   "cell_type": "markdown",
   "metadata": {},
   "source": [
    "##### Create a Model for Predictions\n",
    "\n",
    "There appears to be little reason to use the data points above for any meaningful regression, except for the purchasing power with rent index.   The calculations below explore plotting a least squares line on the dataset to better understand if any meaning can be derived from the data points, with regards to understanding QoL."
   ]
  },
  {
   "cell_type": "code",
   "execution_count": 10,
   "metadata": {
    "collapsed": false
   },
   "outputs": [
    {
     "data": {
      "text/plain": [
       "Intercept                           103.513808\n",
       "purchasing_power_incl_rent_index      0.586970\n",
       "dtype: float64"
      ]
     },
     "execution_count": 10,
     "metadata": {},
     "output_type": "execute_result"
    }
   ],
   "source": [
    "# create a fitted line model\n",
    "lm_numeo = smf.ols(formula='quality_of_life_index ~ purchasing_power_incl_rent_index', data=data).fit()\n",
    "lm_numeo.params"
   ]
  },
  {
   "cell_type": "code",
   "execution_count": 11,
   "metadata": {
    "collapsed": false
   },
   "outputs": [
    {
     "data": {
      "text/html": [
       "<div>\n",
       "<table border=\"1\" class=\"dataframe\">\n",
       "  <thead>\n",
       "    <tr style=\"text-align: right;\">\n",
       "      <th></th>\n",
       "      <th>purchasing_power_incl_rent_index</th>\n",
       "    </tr>\n",
       "  </thead>\n",
       "  <tbody>\n",
       "    <tr>\n",
       "      <th>0</th>\n",
       "      <td>70.655537</td>\n",
       "    </tr>\n",
       "    <tr>\n",
       "      <th>1</th>\n",
       "      <td>190.872212</td>\n",
       "    </tr>\n",
       "  </tbody>\n",
       "</table>\n",
       "</div>"
      ],
      "text/plain": [
       "   purchasing_power_incl_rent_index\n",
       "0                         70.655537\n",
       "1                        190.872212"
      ]
     },
     "execution_count": 11,
     "metadata": {},
     "output_type": "execute_result"
    }
   ],
   "source": [
    "minMax = pd.DataFrame({'purchasing_power_incl_rent_index': \n",
    "                       [data.purchasing_power_incl_rent_index.min(), \n",
    "                        data.purchasing_power_incl_rent_index.max()]})\n",
    "minMax.head()"
   ]
  },
  {
   "cell_type": "code",
   "execution_count": 12,
   "metadata": {
    "collapsed": false
   },
   "outputs": [
    {
     "data": {
      "text/plain": [
       "array([ 144.98647688,  215.5500389 ])"
      ]
     },
     "execution_count": 12,
     "metadata": {},
     "output_type": "execute_result"
    }
   ],
   "source": [
    "# Predictions using the min/max values\n",
    "preds = lm_numeo.predict(minMax)\n",
    "preds"
   ]
  },
  {
   "cell_type": "code",
   "execution_count": 13,
   "metadata": {
    "collapsed": false
   },
   "outputs": [
    {
     "data": {
      "text/plain": [
       "[<matplotlib.lines.Line2D at 0x115d1c9e8>]"
      ]
     },
     "execution_count": 13,
     "metadata": {},
     "output_type": "execute_result"
    },
    {
     "data": {
      "image/png": "[encoded data removed]",
      "text/plain": [
       "<matplotlib.figure.Figure at 0x115d22dd8>"
      ]
     },
     "metadata": {},
     "output_type": "display_data"
    }
   ],
   "source": [
    "data.plot(kind='scatter', x='purchasing_power_incl_rent_index', y='quality_of_life_index')\n",
    "plt.plot(minMax, preds, C='red', linewidth=2)"
   ]
  },
  {
   "cell_type": "markdown",
   "metadata": {},
   "source": [
    "##### Evaluate the Model\n",
    "\n",
    "There appears to be a correlation between purchase power with rent and QoL, if only a very slight correlation.   However, the calculations below show that even the best of the possible correlations among the indexes above seems to be in fact a very weak correlation.\n",
    "\n",
    "What this problem identifies is that quality of life is a very complicated, and multifaceted problem.  Any model to understand quality of life will require a great deal of research and understanding of users and preferences.   This seems to be one of the main benefits of the Network Planning Units (NPUs) utilized in many cities.   The NPU attempts to aggregate people based on a set of preferences, and those preferences don't necessarily adhere to municipality boundaries.   \n",
    "\n",
    "The NPUs were set to more accurately reflect common preferences within a cluster of residents.  One explanation for the lack of fit for our quality of life models could be that the data is not granular enough, and overlaps too many NPUs.  This could obscure correlations that may be visibile at lower levels of abstraction. "
   ]
  },
  {
   "cell_type": "code",
   "execution_count": 14,
   "metadata": {
    "collapsed": false
   },
   "outputs": [
    {
     "data": {
      "text/plain": [
       "Intercept                           2.577027e-13\n",
       "purchasing_power_incl_rent_index    6.011481e-09\n",
       "dtype: float64"
      ]
     },
     "execution_count": 14,
     "metadata": {},
     "output_type": "execute_result"
    }
   ],
   "source": [
    "lm_numeo.pvalues"
   ]
  },
  {
   "cell_type": "code",
   "execution_count": 15,
   "metadata": {
    "collapsed": false
   },
   "outputs": [
    {
     "data": {
      "text/plain": [
       "0.28341634644443148"
      ]
     },
     "execution_count": 15,
     "metadata": {},
     "output_type": "execute_result"
    }
   ],
   "source": [
    "lm_numeo.rsquared"
   ]
  },
  {
   "cell_type": "markdown",
   "metadata": {},
   "source": [
    "#### Explore Zillow.com Property Price to QoL\n",
    "\n",
    "In another attempt to relate property price to a QoL index, data from zillow.com was pulled to show the monthly median home price per square foot, over the past year.   This number was aggregated into an annual average for comparison against the latest QoL metrics from numbeo.com"
   ]
  },
  {
   "cell_type": "code",
   "execution_count": 16,
   "metadata": {
    "collapsed": false
   },
   "outputs": [
    {
     "data": {
      "text/html": [
       "<div>\n",
       "<table border=\"1\" class=\"dataframe\">\n",
       "  <thead>\n",
       "    <tr style=\"text-align: right;\">\n",
       "      <th></th>\n",
       "      <th>city_id</th>\n",
       "      <th>avg_prop_price_sqft</th>\n",
       "      <th>cpi_and_rent_index</th>\n",
       "      <th>cpi_index</th>\n",
       "      <th>property_price_to_income_ratio</th>\n",
       "      <th>purchasing_power_incl_rent_index</th>\n",
       "      <th>quality_of_life_index</th>\n",
       "      <th>rent_index</th>\n",
       "    </tr>\n",
       "    <tr>\n",
       "      <th>index</th>\n",
       "      <th></th>\n",
       "      <th></th>\n",
       "      <th></th>\n",
       "      <th></th>\n",
       "      <th></th>\n",
       "      <th></th>\n",
       "      <th></th>\n",
       "      <th></th>\n",
       "    </tr>\n",
       "  </thead>\n",
       "  <tbody>\n",
       "    <tr>\n",
       "      <th>1</th>\n",
       "      <td>3386</td>\n",
       "      <td>53.538462</td>\n",
       "      <td>55.739172</td>\n",
       "      <td>85.702567</td>\n",
       "      <td>1.809120</td>\n",
       "      <td>84.239327</td>\n",
       "      <td>169.815468</td>\n",
       "      <td>21.692513</td>\n",
       "    </tr>\n",
       "    <tr>\n",
       "      <th>2</th>\n",
       "      <td>7700</td>\n",
       "      <td>113.076923</td>\n",
       "      <td>59.223334</td>\n",
       "      <td>81.843946</td>\n",
       "      <td>1.637968</td>\n",
       "      <td>160.296213</td>\n",
       "      <td>212.404434</td>\n",
       "      <td>33.520097</td>\n",
       "    </tr>\n",
       "    <tr>\n",
       "      <th>3</th>\n",
       "      <td>3387</td>\n",
       "      <td>103.923077</td>\n",
       "      <td>46.012914</td>\n",
       "      <td>64.294231</td>\n",
       "      <td>2.514474</td>\n",
       "      <td>147.655252</td>\n",
       "      <td>191.763675</td>\n",
       "      <td>25.240309</td>\n",
       "    </tr>\n",
       "    <tr>\n",
       "      <th>4</th>\n",
       "      <td>3389</td>\n",
       "      <td>190.615385</td>\n",
       "      <td>69.484310</td>\n",
       "      <td>91.630153</td>\n",
       "      <td>2.649285</td>\n",
       "      <td>149.548630</td>\n",
       "      <td>174.965188</td>\n",
       "      <td>44.320541</td>\n",
       "    </tr>\n",
       "    <tr>\n",
       "      <th>5</th>\n",
       "      <td>7859</td>\n",
       "      <td>192.307692</td>\n",
       "      <td>55.380066</td>\n",
       "      <td>67.413387</td>\n",
       "      <td>2.767982</td>\n",
       "      <td>162.282375</td>\n",
       "      <td>219.055036</td>\n",
       "      <td>41.706902</td>\n",
       "    </tr>\n",
       "  </tbody>\n",
       "</table>\n",
       "</div>"
      ],
      "text/plain": [
       "       city_id  avg_prop_price_sqft  cpi_and_rent_index  cpi_index  \\\n",
       "index                                                                \n",
       "1         3386            53.538462           55.739172  85.702567   \n",
       "2         7700           113.076923           59.223334  81.843946   \n",
       "3         3387           103.923077           46.012914  64.294231   \n",
       "4         3389           190.615385           69.484310  91.630153   \n",
       "5         7859           192.307692           55.380066  67.413387   \n",
       "\n",
       "       property_price_to_income_ratio  purchasing_power_incl_rent_index  \\\n",
       "index                                                                     \n",
       "1                            1.809120                         84.239327   \n",
       "2                            1.637968                        160.296213   \n",
       "3                            2.514474                        147.655252   \n",
       "4                            2.649285                        149.548630   \n",
       "5                            2.767982                        162.282375   \n",
       "\n",
       "       quality_of_life_index  rent_index  \n",
       "index                                     \n",
       "1                 169.815468   21.692513  \n",
       "2                 212.404434   33.520097  \n",
       "3                 191.763675   25.240309  \n",
       "4                 174.965188   44.320541  \n",
       "5                 219.055036   41.706902  "
      ]
     },
     "execution_count": 16,
     "metadata": {},
     "output_type": "execute_result"
    }
   ],
   "source": [
    "# read in data\n",
    "zdata = pd.read_csv('data/zillow_export_full.csv', \n",
    "                   index_col=0, \n",
    "                   usecols=['index','city_id','avg_prop_price_sqft',\n",
    "                            'rent_index','cpi_and_rent_index',\n",
    "                            'cpi_index','property_price_to_income_ratio',\n",
    "                            'purchasing_power_incl_rent_index',\n",
    "                            'quality_of_life_index'])\n",
    "zdata.head()"
   ]
  },
  {
   "cell_type": "code",
   "execution_count": 17,
   "metadata": {
    "collapsed": false
   },
   "outputs": [
    {
     "data": {
      "text/plain": [
       "<matplotlib.axes._subplots.AxesSubplot at 0x1151bc278>"
      ]
     },
     "execution_count": 17,
     "metadata": {},
     "output_type": "execute_result"
    },
    {
     "data": {
      "image/png": "[encoded data removed]",
      "text/plain": [
       "<matplotlib.figure.Figure at 0x1160c35c0>"
      ]
     },
     "metadata": {},
     "output_type": "display_data"
    }
   ],
   "source": [
    "# visualize relationship between the features and responses\n",
    "fig, axs = plt.subplots(2, 3, sharey=True)\n",
    "zdata.plot(kind='scatter', x='avg_prop_price_sqft', y='quality_of_life_index', ax=axs[0][0], figsize=(16,8))\n",
    "zdata.plot(kind='scatter', x='rent_index', y='quality_of_life_index', ax=axs[0][1])\n",
    "zdata.plot(kind='scatter', x='cpi_and_rent_index', y='quality_of_life_index', ax=axs[0][2])\n",
    "zdata.plot(kind='scatter', x='cpi_index', y='quality_of_life_index', ax=axs[1][0])\n",
    "zdata.plot(kind='scatter', x='property_price_to_income_ratio', y='quality_of_life_index', ax=axs[1][1])\n",
    "zdata.plot(kind='scatter', x='purchasing_power_incl_rent_index', y='quality_of_life_index', ax=axs[1][2])"
   ]
  },
  {
   "cell_type": "code",
   "execution_count": 18,
   "metadata": {
    "collapsed": false
   },
   "outputs": [
    {
     "data": {
      "text/plain": [
       "Intercept                           117.381507\n",
       "purchasing_power_incl_rent_index      0.489821\n",
       "dtype: float64"
      ]
     },
     "execution_count": 18,
     "metadata": {},
     "output_type": "execute_result"
    }
   ],
   "source": [
    "# create a fitted line model\n",
    "lm_zillow = smf.ols(formula='quality_of_life_index ~ purchasing_power_incl_rent_index', data=zdata).fit()\n",
    "lm_zillow.params"
   ]
  },
  {
   "cell_type": "code",
   "execution_count": 19,
   "metadata": {
    "collapsed": false,
    "scrolled": true
   },
   "outputs": [
    {
     "data": {
      "text/html": [
       "<div>\n",
       "<table border=\"1\" class=\"dataframe\">\n",
       "  <thead>\n",
       "    <tr style=\"text-align: right;\">\n",
       "      <th></th>\n",
       "      <th>purchasing_power_incl_rent_index</th>\n",
       "    </tr>\n",
       "  </thead>\n",
       "  <tbody>\n",
       "    <tr>\n",
       "      <th>0</th>\n",
       "      <td>79.975157</td>\n",
       "    </tr>\n",
       "    <tr>\n",
       "      <th>1</th>\n",
       "      <td>190.872212</td>\n",
       "    </tr>\n",
       "  </tbody>\n",
       "</table>\n",
       "</div>"
      ],
      "text/plain": [
       "   purchasing_power_incl_rent_index\n",
       "0                         79.975157\n",
       "1                        190.872212"
      ]
     },
     "execution_count": 19,
     "metadata": {},
     "output_type": "execute_result"
    }
   ],
   "source": [
    "# setup a DataFrame for predictions with the line model\n",
    "zMinMax = pd.DataFrame({'purchasing_power_incl_rent_index': \n",
    "                        [zdata.purchasing_power_incl_rent_index.min(),\n",
    "                         zdata.purchasing_power_incl_rent_index.max()]})\n",
    "zMinMax.head()"
   ]
  },
  {
   "cell_type": "code",
   "execution_count": 20,
   "metadata": {
    "collapsed": false
   },
   "outputs": [
    {
     "data": {
      "text/plain": [
       "array([ 156.5550482 ,  210.87479611])"
      ]
     },
     "execution_count": 20,
     "metadata": {},
     "output_type": "execute_result"
    }
   ],
   "source": [
    "# predict the outcomes based on the model\n",
    "zpreds = lm_zillow.predict(zMinMax)\n",
    "zpreds"
   ]
  },
  {
   "cell_type": "code",
   "execution_count": 21,
   "metadata": {
    "collapsed": false
   },
   "outputs": [
    {
     "data": {
      "text/plain": [
       "[<matplotlib.lines.Line2D at 0x1168166d8>]"
      ]
     },
     "execution_count": 21,
     "metadata": {},
     "output_type": "execute_result"
    },
    {
     "data": {
      "image/png": "[encoded data removed]",
      "text/plain": [
       "<matplotlib.figure.Figure at 0x115cfec18>"
      ]
     },
     "metadata": {},
     "output_type": "display_data"
    }
   ],
   "source": [
    "data.plot(kind='scatter', x='purchasing_power_incl_rent_index', y='quality_of_life_index')\n",
    "\n",
    "plt.plot(zMinMax, zpreds, c='red', linewidth=2)"
   ]
  },
  {
   "cell_type": "markdown",
   "metadata": {},
   "source": [
    "##### Evaluate the Model\n",
    "\n",
    "Once again the data does not support a strong positive correlation between purchasing power with rent an the QoL index.   The second source of data may not provide a result to support the initial hypothesis of a correlation between property or rent prices and the QoL index, but it does serve as validation of the findings from the first data set from Numbeo.   While not directly applicable to translating QoL into financial terms, it does provide evidence that our data sets are consistent and our research is valid.   It also leads to the conclusion that the QoL index is more complicated than initially assumed, and therefore it is logical to conclude that a high level of predictive correlation is not directly possible through one measure."
   ]
  },
  {
   "cell_type": "code",
   "execution_count": 22,
   "metadata": {
    "collapsed": false
   },
   "outputs": [
    {
     "data": {
      "text/plain": [
       "Intercept                           3.751710e-18\n",
       "purchasing_power_incl_rent_index    3.906331e-08\n",
       "dtype: float64"
      ]
     },
     "execution_count": 22,
     "metadata": {},
     "output_type": "execute_result"
    }
   ],
   "source": [
    "lm_zillow.pvalues"
   ]
  },
  {
   "cell_type": "code",
   "execution_count": 23,
   "metadata": {
    "collapsed": false
   },
   "outputs": [
    {
     "data": {
      "text/plain": [
       "0.26864724605091594"
      ]
     },
     "execution_count": 23,
     "metadata": {},
     "output_type": "execute_result"
    }
   ],
   "source": [
    "lm_zillow.rsquared"
   ]
  },
  {
   "cell_type": "markdown",
   "metadata": {},
   "source": [
    "These results led us to the conclusion that the QoL index could not easily be translated into financial terms.   Most of the research reviewed that studied benefits of Smart Cities projects avoided defining benefits in quantitative currency values, and we speculate this is due to the complexity of that association.   The most comprehensive study of benefits reviewed, the ITS BCLL [reference], did not provide benefits in quantitative currency terms.   Instead it provided qualitative metrics of _improved_ or _reduced_, and quantitative metrics that stated percentage change for various measures.\n",
    "\n",
    "At this point the data does not support the ability for the SCDA project to translate a change in the QoL index into an impact in financial terms.   While there is evidence to support that people are willing to pay for an improvement in QoL, exactly how much they are willing to pay is not entirely clear, or it is difficult to understand the impact across a large grouping of population.  \n",
    "\n",
    "The approach in the first iteration of the SCDA tool is to utilize the QoL index as a separate measure from the financial benefits calculated from the cost and benefit models.  The QoL is quantitative, in that it provides a number that can compare different cities.  It is also useful to compare the projected improvement to QoL for a specific technology solution addressing a Smart Cities use case.   If the model predicts an improvement in QoL, then the SCDA program feels confident that this will translate to higher levels of public perception, which is one of the stated goals for the City of Atlanta and most municipalities undergoing Smart Cities infrastructure projects."
   ]
  },
  {
   "cell_type": "markdown",
   "metadata": {},
   "source": [
    "### Lights (LED) Data\n",
    "\n",
    "This section describes data points gathered for research into LED technologies for the Lights use case.  This information was utilzed to derive cost and benefit model equations for the SCDA tool.\n",
    "\n",
    "#### Cost Impacts\n",
    "\n",
    "* Risks of fire or explosion [32]\n",
    "    * Broken sodium lamps can present a danger of significant heat generation in the presence of small amounts of water. \n",
    "    * Immediate hazards to health Lamp is a manufactured article in safe package. \n",
    "    * There are no immediate hazards to health as long as lamps are undamaged in original packaging.\n",
    "    * 50% chance of 1 street lamp damaged per year\n",
    "    * Costs between \\$5,000 and \\$8,000 per lamp\n",
    "    * If only 50% damaged then the cost per year is \\$1625\n",
    "* Packaging Costs\n",
    "    * \\$21.73 in packaging cost for a 600lb object\n",
    "    * \\$3.00 for a package\n",
    "    * Estimated \\$5.00 in environmental costs = \\$29.73 per pole\n",
    "    * HSP - \\$1,800 need to be replaced / yr = \\$53,514 / yr\n",
    "    * LED - \\$360 per yr = \\$10,702 / yr\n",
    "* Work Zone Risks `[35]`\n",
    "    * Less chance of shock, fall, traffic accident with less road work due to less replacements.\n",
    "    * Cold to touch, less likely to burn maintenance operator.\n",
    "    * Average 669 road worker deaths per year.\n",
    "* Work Zone Accidents `[36]`\n",
    "    * 0.6% were fatal crashes, 30% were injury crashes\n",
    "* Injury Costs `[37]`\n",
    "    * 33,450 road worker deaths and injuries in the US per yr\n",
    "    * scaled to Atlanta: 47 road work injuries or deaths per year\n",
    "    * \\$162,000.00 average = \\$7,614,000 cost to Atlanta per yr\n",
    "    * Assume 1 in 10 occur while working on lightpoles\n",
    "        * \\$761,400 per year in Atlanta for HSP\n",
    "        * Divide by 5 for less maintenance \\$152,280 / yr for LED"
   ]
  },
  {
   "cell_type": "markdown",
   "metadata": {},
   "source": [
    "#### Environmental Impacts\n",
    "\n",
    "* Cracked light bulbs or covers can expose workers to harmful UV radiation `[29][30]`\n",
    "* Cost of UV illness in Stockholm was \\$16.2 Million. `[31]`\n",
    "    * Scaled to Atlanta’s population the cost of illness is \\$9.2 Million.\n",
    "    * Assuming 1 of 1000 affects is due to street lights.  \n",
    "    * Cost scaled to Atlanta population is \\$9200 per year.  \n",
    "* Environmental Impacts of Using LED Lights `[33]`\n",
    "    * Don’t need to be replaced often. \n",
    "        * Reduces impact of manufacturing, packaging and shipping. \n",
    "    * LEDs designed to provide more than a decade of near maintenance-free service. \n",
    "        * Less servicing reduces environmental impact.\n",
    "* Universal Waste `[38][39]`\n",
    "    * HPS must be listed as universal waste.\n",
    "    * Lamps contain lead in the glass and lead solder in the base. \n",
    "    * Lead is a toxic metal that may leach from solid waste landfills into the ground water.\n",
    "* Lead Poisoning Costs `[40]`\n",
    "    * US estimated cost of lead \\$355 Million\n",
    "    * Scaled to Atlanta’s population = $498,381\n",
    "    * Estimate only 1 in 1000 of lead effects are due to the lamps = \\$498 / yr\n",
    "* Lamp Disposal or Recycling Sites [41][42]\n",
    "    * Only 1 site in Georgia, others far away -> shipping and transportation\n",
    "    * \\$1.95 per mile shippint\n",
    "    * Average distance from Atlanta to one of those sites: 713 miles\n",
    "    * \\$28.85 per pole lamp\n",
    "        * 1,800 HSP poles per year and 360 LED poles per year\n",
    "        * \\$51,930 / yr for HSP and \\$1,038 /yr for LED\n",
    "* LED Sleep Impacts [43]\n",
    "    *  LEDs blue light can mimic sunlight, which could suppress the body’s ability to secrete melatonin, affecting sleep patterns.\n",
    "    * Starting estimate as \\$100/yr for LEDs"
   ]
  },
  {
   "cell_type": "markdown",
   "metadata": {},
   "source": [
    "#### Crime Impacts\n",
    "A review of street lighting studies in the United States and the United Kingdom finds that crime decreased by 21% in areas with improved street lighting in comparison with similar areas that did not receive improvement. Specifically, in Atlanta the improved street lighting resulted in a decrease in robberies and burglaries, although the incidence increased in the control areas. Interestingly, nighttime crime increased considerably in both the lighted area and control area of Atlanta. The improved lighting in Kansas City reduced nighttime violent crimes such as robbery and assault, but not nighttime property crimes including larceny and motor vehicle theft `[54]`."
   ]
  },
  {
   "cell_type": "markdown",
   "metadata": {},
   "source": [
    "#### Summary \n",
    "In conclusion: HSP costs Atlanta an additional \\$878,167 per year to maintain and operate.  This represents the current _Society Costs_.  LED costs \\$164,120 per year, which represents the _Society Cost_ of the using LED.  The difference between the baseline and imroved _Society Cost_ is the _Society Benefit_ of implementing the LED technology solution.\n",
    "\n",
    "| \t|HSP (\\$/yr)|LED (\\$/yr)|\n",
    "|---|----------|----------|\n",
    "|UV\t|9200\t|0|\n",
    "|Fire\t|1625\t|0|\n",
    "|Packaging\t|53514\t|10702|\n",
    "|Roadside risks\t|761400\t|152280|\n",
    "|Lead\t|498\t|0|\n",
    "|Shipping\t|51930\t|1038|\n",
    "|Circadian\t|0\t|100|\n",
    "|**Total**\t|878167\t|164120|"
   ]
  },
  {
   "cell_type": "markdown",
   "metadata": {},
   "source": [
    "### Traffic (EVP) Data\n",
    "\n",
    "During our analysis of potential sensor packages and capabilities associated with improving the city of Atlanta’s traffic system, a number of useful studies helped to highlight some of the available technologies that are in current use, and could be available for the Smart Pole system.  The Intelligent Transportation Systems Benefits, Costs, and Lessons Learned Report by the U.S. Department of Transportation took a deep dive into strategies for advancing transportation safety, mobility, and environmental sustainability by integrating communication and information technology applications into the management and operation of the transportation system.  The specific section that dealt with traffic control, talked about management of traffic flow through busy cities by use of adaptive signal control technologies (ASCTs) to coordinate the control of traffic to decrease commute times and increase safety.  It was shown that this type of system deployed in New York City, resulted in a 10 percent decrease in travel times through Midtown, it also significantly reduced fuel consumption, emissions, and crashes.  This time reduction, although valuable to the general commuter, was difficult to correlate to a monetary cost savings to the public or even more to the city.  This in comparison to the large sticker price of the ASCTs, which have been estimated between \\$46,000 and \\$65,000 per intersection, made it difficult for cities to adopt this technology `[13]`.\n",
    "\n",
    "A similar technology solution has been implemented for the control and safe navigation of emergency vehicles during their transit to and from response locations.  There have been a number of studies conducted in the area of emergency vehicle management and crash prevention due to transit altercations.  The National Highway Traffic Safety Administration (NHTSA) released a report in April of 2014 that estimated over the past 20 year period, a total of 4,500 accidents involving ambulances, with 35% of them resulting in injury or fatality.  Similarly, the NHTSA conducted a study that found 31,000 accidents involving fire vehicles over a 10 year period, of which 49 of those accidents resulted in at least one fatality to an occupant `[11]`.  In a separate study, it was found that intersection altercations were the main factor for emergency vehicle wrecks, leading to 43 percent of all emergency vehicle crashes `[44]`.  This was the area we chose to model in the SCDA tool, because of the available data to compare systems costs and benefits provided by the implementation of an Emergency Vehicle Preemptive (EVP) system.\n",
    "\n",
    "To limit scope for this analysis, the SCDA project chose to constrain impacts to the property damage caused by a crash between an emergency vehicle and personal vehicle at an intersection.  Significant benefits could be shown for the use of the EVP system in preventing the loss of lives due to injury or death, but this correlation was determined to be out of scope for the first iteration of the SCDA tool.\n",
    "\n",
    "There are a number of studies conducted in the area of Emergency Vehicle Preemptive (EVP) systems.  The systems in the study utilize a variety of technologies,  including light-based, infrared-based, sound-based, radio-based emitter/detector, and GPS-based technologies.  The main source of data utilized in the SCDA tool was collected from a Traffic Signal Preemption for Emergency Vehicles study, which identified benefits and costs associated with the implementation of the EVP system in three different test locations:  Fairfax County, Virginia; the City of Plano, Texas; and the City of St. Paul, Minnesota `[27]`. \n",
    "\n",
    "The study found that when the EVP system was implemented in Plano, TX, EV intersection crashes were reduced from 2.3 EV crashes per year to one crash every five years (0.2 per year).  The average cost of these EVP type systems at four-way intersections ranged from \\$5,000 - \\$8,000 per intersection.  \n",
    "\n",
    "Statistical data from similar EVP installations was utilized to model costs and benefits of an EVP implementation in the City of Atlanta.  The results from other muncipalities was scaled to the City of Atlanta based on the average number of commuters expected on city streets.  A commuter population comparison by city (United Census Bureau) was utilized to scale statistical data for the SCDA tool."
   ]
  },
  {
   "cell_type": "markdown",
   "metadata": {},
   "source": [
    "### Crime Data\n",
    "\n",
    "During the early stages of the SCDA project the City of Atlanta expressed a desire to reduce crime rates in the area through technology implementations during a light pole upgrade process. After exploring possible uses and benefits that address crime, the tecnologies solutions of security cameras (CCTV) and gunshot detection systems were identified as trending in similar crime reduction initiatives around the world.\n",
    "\n",
    "Camera systems help deter criminals from committing criminal acts by reducing the “mystery” of who commits a crime within sight of a camera. More recently gunshot detection systems are used to automatically pinpoint location of a firearm discharge, in the effort to reduce violent crimes and homicides within cities.  Implementation of CCTV and gunshot detection systems would target reductions in the frequency of crime within the city and the cost associated with managing that crime.  \n",
    "\n",
    "According to Becsi `[55]` crime is the number one public concern for Atlanta residents.  The results of a recent citizen survey, conducted by the City of Atlanta for the 2011 Comprehensive Development Plan Update, found Public Safety as the highest priority planning attribute for the City of Atlanta `[56]`.  These findings align with feedback provided directly from project representatives working for the City of Atlanta.  During initial meetings with City representatives, the improvements in the following areas were identified as target objectives.\n",
    "\n",
    "* Public Safety\n",
    "* Resident Mobility\n",
    "* Connectivity\n",
    "* Environmental Concerns"
   ]
  },
  {
   "cell_type": "markdown",
   "metadata": {},
   "source": [
    "#### Crime (CCTV)\n",
    "\n",
    "The table below lists a breakdown by type and number of crimes for 2010 `[57]` along with the cost of crime in 2009 USD `[58]`.  During this period the population of Atlanta was 5,432,336.  The data presents a projected benefit if specific crime was reduced by 25%, which is on par with similar reference installations (*_Violent crimes not included_).\n",
    "\n",
    "|Crime in Atlanta|Incidents |Total Cost of Crime (2009)     |Annual Cost    |Benefit (if Reduced by 25%)|\n",
    "|----------------|----------|-------------------------------|---------------|---------------------------|\n",
    "|Larceny         |17,741    |\\$7,353                        |\\$130,449,573  |\\$32,612,393               |\n",
    "|Burglary        |8,016     |\\$13,171                       |\\$105,578,736  |\\$26,394,684               |\n",
    "|Robbery         |2,162     |\\$120,878                      |\\$261,338,236  |\\$65,334,559               |\n",
    "|Property Crime  |30,800    |\\$7,701                        |\\$237,190,800  |\\$59,297,700               |\n",
    "|**Total**       | *        | *                             |\\$734,557,345  |\\$183,639,336              |\n",
    "\n",
    "Kahn [59] argues that security cameras (CCTV) not only reduce crime, but also allow a municipality to utilize data captured from the camera installation to more effectively deploy resources to improve public safety.  He argues that more targeted and efficient use of law enforcement services results in reduced costs and improved overall outcomes for the law enfrocement community.  \n",
    "\n",
    ">This additional cost savings is plausible, but in the scope of the first iteration of the SCDA tool it was difficult to quantify.   At this point any additional benefit derived from more efficient use of law enforcement services is not captured in the SCDA tool benefit models   This is an area for future research and improvement.\n",
    "\n",
    "While evaluating crime statistics, it is useful to research other similar cities to understand as much information as possible to make more informed decisions.  While geography and other factors are different, downtown Baltimore and downtown Atlanta have enough similarities that it merits some careful comparisons.\n",
    "\n",
    "Baltimor has 3,927 residents, while Atlanta has 15,503 `[60]`.  The property crime rate for 2010 in Atlanta was 560.  In Baltimore the crime rate was 474.9 in 2010, while the US average was 276.4 during the same time `[61]`.  Baltimore imlemented a security camera system, and the similar crime rate makes a comparison on costs resulting from crime and benefits of security cameras a meaningful comparison.  \n",
    "\n",
    "The specific startup costs for the Baltimore CCTV project was \\$11414.58 for 480 cameras, and included changes to the infrastructure to accommodate electricity and networking, in addition to camera installation.  The costs to maintain the cameras and infrastructure were \\$538 per camera per year, and the cost for operations personnel was \\$1,176 per camera per year.  The total costs for 36 months were \\$8,060,000, or \\$224,000 per month.  The Downtown Baltimore impact analysis reported a significant change in crime, with a 24.85 percent decrease in total crime after camera installation.  Baltimore also reported a 22.72 percent decrease in violent crime, and a 31.97 to 34.58 percent drop in property crime `[58]`.\n",
    "\n",
    "Using the representative data from teh Baltimore CCTV installation, a 25% reduction in property crime was selected as the proposed reduction in property crime for the CCTV benefits model.  The model will perform uncertainty analysis with this value to evaluate solutions over a range of possible reduction in crime.  However, this serves as a starting point for model development and evaluation.\n",
    "\n",
    "In order to realize the benefit of CCTV cameras and reduce crime in an urban area, a minimum camera density is suggested.  The minimum density is again based on effectiveness measures from other reference implementations.  In this case a minimum recommended of 53 cameras per square mile is suggested, based upon comparisons of camera density in two different areas evaluated in a study by La Vigne et al `[58]`.  Additionally, preferred installation densities are derived from the same study.  Based on the research by La Vigne et al [58], the preferred camera density is 400 cameras per square mile.  This density ratio aligns with the ratio of 50 cameras in 50 blocks used in the Baltimore study, further solidifying the correlation of Baltimore cost data as a predictor of benefits for the City of Atlanta.\n",
    "\n",
    "Values used to dervie cost models came from several different sources.  One source is a Hi-Tech Security Magazine article `[62]` that states unit costs for security cameras shoudl account for 30-50% of the overall install cost of a security camera system.   The article also states that 5-15% of the install cost is related installation of a surveillance program, while an additional 15-40% of installation cost is related to computers and storage required to operate system.\n",
    "\n",
    "Using a specific camera model as an example, the JVC model H137U has a purchase price between \\$536.48 and \\$740.  The camera has an expected Mean Time Between Failure (MTBF) of 90,000 hours `[63]`, which translates to more than 10 years of constant usage `[64]`.   The cost information gathered for installation, operation, and maintenance costs were used as decicion variables for the SCDA tool cost models.   The cost and benefit models can be combined to help provide a clear picture of how much benefit a CCTV camera system will provide the City of Atlanta when the design varibles and installation configuration is optimized."
   ]
  },
  {
   "cell_type": "markdown",
   "metadata": {},
   "source": [
    "### Crime (Gunshot) Data\n",
    "\n",
    "Gunshot detection has been implemented in various cities such as New York City and Washington DC.  The cost per gunshot detection system in New York and Washington DC average between \\$5,000 and \\$18,333 respectively.  Through the use of these systems the number of gunshots in New York has reduced 50% and the number of gunshots in Washington DC have reduced 40% `[48][50][51][52]`.  \n",
    "\n",
    "The number of systems required to adequately cover a city area is in part based on the size of the region.  For comparison, New York City and Washington DC cover roughly 15 and 20 square miles `[48][50][51][52]`; while the region of Atlanta covered under the scope of the SCDA project is approximately 8.59 square miles `[46][47][49]`.  Gunshot frequency data from the Atlanta Police Department `[45]` for 2015, 2014, and 2013 are shown in the table below.\n",
    "\n",
    "|APD Zone     |2015 Crimes <br/>Using Firearms |2014 Crimes <br/>Using Firearms |2013 Crimes <br/>Using Firearms |\n",
    "|-------------|:---------------------------:|:---------------------------:|:---------------------------:|\n",
    "|Zone 2 <br/>(Buckhead) |13 |20 |9 |\n",
    "|Zone 2 <br/>(Downtown and Midtown)  |25 |22 |28 |\n",
    "\n",
    "The average cost for initial setup between the New York and Washington DC installations can be characterised using the following equation, translated to proposed terms for the City of Atlanta.   The current project proposal is to evaluate a potential deployment at 9000 sites, which is reflected in the installation size in the equations below.\n",
    "\n",
    "$${InstallCost} = 11666.5 * {BenefitScaler} * 9000 * ({BenefitScaler} + 1)^2 + {UncertaintyCost}$$\n",
    "\n",
    "Research uncovered the cost for gunshot detector maintenance was roughly \\$49,000 over four years `[65]`.  Using this research a yearly maintenance cost equation is proposed for use by the SCDA tool for the City of Atlanta.\n",
    "\n",
    "$${MaintOperCost} = 12250 * {BenefitScaler} * 9000 * ({BenefitScaler} + 1)^2 + {UncertaintyCost}$$\n",
    "\n",
    "Similar to the other use cases, a benefit/complexity scaler is used to capture the impact of a partial installation.  Based on the research derived from other installations, mentioned above, there is a level of installation density in which no additional benefit is derived.  Models used by the SCDA tool will account for this non-linear scaling of benefit, and appropriately constrain the deployment numbers to find an optimal solution.   The benefit scaler in the equations above is utilized by the SCDA tool to manage this constraint.\n",
    "\n",
    "Additionally, the equations above account for uncertainties in cost through the `UncertaintyCost` factor.  Uncertainty analysis is performed by the SCDA tool across all costs, to provide more robust cost models and a more accurate reflection of the range of possible costs.\n",
    "\n",
    "The benefit model for the Gunshot detection system is driven from research around the cost of crimes related to gunfire, or violent crimes.  Violent crime (murder, rape, assault, and robbery) costs totaled \\$137 per American in 2010 `[66]` and it is estimated that indirect costs from violent crimes are more than three times as great as the observable costs.  A 10 percent reduction in violent crimes nationally would generate savings of \\$20 billion annually; a 25 percent reduction would reap benefits estimated at $50 billion per year.  In a 1998 survey, more than 1,200 people surveyed estimated a willingness-to-pay combined value of \\$1.2 million per gunshot injury.  \n",
    "\n",
    "The violent crime rate for Atlanta is 1,433 incidents per 100,000 residents, based on the best esimtates available to the SCDA project at this time [61].  Given that the cost to society for a single murder is \\$1,435,507 `[58]`, and there were 66 gun deaths in Atlanta in 2015 `[67]`, the societal cost of gun crime can be estimated at \\$94,734,362 per annum.  This research shows a clear benefit and public support for reducing violent crime."
   ]
  },
  {
   "cell_type": "markdown",
   "metadata": {},
   "source": [
    "## Model Execution\n",
    "\n",
    "### Use Cases\n",
    "The SCDA tool will utilize 3 main use cases for evaluation.  The use cases chosen based on the preferences derived from the City of Atlanta for potential Smart Cities uses and benefits are as follows.\n",
    "\n",
    "* Replacement of existing lights with high efficiency LEDs\n",
    "* Emergency Vehicle Preemptive (EVP) signaling\n",
    "* Crime monitoring and enforcement through cameras and sound sensors\n",
    "\n",
    "For each use case, planning tools were used to understand the customer preferences and technology impacts.  From this information, combined with research into similar projects and existing technologies, a technology solution was drafted.   For the purpose of evaluations in the SCDA tool, this level of abstraction for technology solution is intended.   Detailed technical analysis of technical solutions would create additional costs and add more time to project evaluation.  The SCDA tool is designed to help people make more informed decisions, early in project evaluation, when budget and time is not available for detailed analysis.\n",
    "\n",
    "Each use case is evaluated separately in the different model structures defined below, and an aggregate representation is collected to evaluate all use cases together.   As shown above in the model layers, the combination of different use cases is another layer of complexity that is not fully addressed in this iteration of the SCDA tool.   Most evaluation is assumed to aggregate directly, and complexities with true analytical evaluation of the impacts of aggregating separate technolgies is ignored for this version.   Future work will address higher levels of fidelity and explore how different combinations of technologies, at different scales, could impact the overall optimum solution.  For now this is a known risk and assumption of the overall SCDA tool.\n",
    "\n",
    "### Tools\n",
    "The overall model for the SCDA tool is broken into a series of cost and benefit models defined inside a Model Center [reference] project, and a QoL calculation model written in Java.   The execution of the QoL calculation model makes use of the _Quick Wrap_ feature of Model Center, which allows integration of the execution of the external QoL calculation application with the other cost and benefit models.   However, difficulties involved with accurately assigning common financial terms to a QoL index led to less fidelity in the model.  For this release of the SCDA tool the optimized utility from the cost and benefit models will stand as a separate measure with the QoL index.\n",
    "\n",
    "The Latin Hypercube module in Model Center provides a mechanism to handle known uncertainties.   Known uncertainties are uncertainties that are known to exist, but the exact impact to the project is not known or easily calculated directly.  The Latin Hypercube algorithm allows distributions to be defined for each of the uncertainties, and the module will explore values within those distributions for evaluation in the model.   Each exectuion of the model may include 20-50 samples of uncertainty values from the Latin Hypercube module.  These random samples help more fully understand the impact of uncertainties and create more robust cost and benefit models.\n",
    "\n",
    "Surrogate models are also used in the Model Center project.   The QoL calculators are relatively expensive computationally, and therefore would require far more time and computing power than is practical for a full evaluation of all the decision variations utilized for model evaluation in the SCDA project.   To address this computation and time contstraint a surrogate model was developed to provide an approximation of the results of the actual QoL model, with a high level of certainty.   The QoL surrogate model for each use case has an $r^2$ value greater than 0.99, whice equates to a very accurate representation of the QoL calculation functions through the surrogate models.\n",
    "\n",
    "The figure below provides an overview of the model elements utilized in the Model Center configuration for the SCDA tool.\n",
    "\n",
    "<img src=\"images/ModelCenter-Overview-WithQoL.png\" alt=\"\" width=\"800\">\n",
    "\n",
    "### Process\n",
    "The Model Center project uses a design of experiments (DoE) approach to explore the design space for a set of decision variables impacting the cost and benefit models for each use case.  Uncertainties are also handled through uncertainty analysis using latin hypercube sampling on various decision variables, to make the model more robust to known uncertainties.\n",
    "\n",
    "The main output of the cost and benefit models from Model Center is an overall _Societal Benefit_, as defined above.   This measure is represented as the overall benefit or utility of a technology solution for a use case.  Additionally, the optimized deployment solution is represented through a complexity/benefit scaler, as defined above.  This output value is utilized as an input parameter to the QoL calculator.\n",
    "\n",
    "The main output of the QoL calculator is a baseline QoL index score and the QoL index score for each of the use cases.  Execution of the calculator utilizes the optized complexity/benefit scaler derived from the cost and benefit models to adjust the projected range of improvement for the different QoL measures, as defined above.   The specific benefit derived from a technology solution will impact the amount of increase shown in the QoL index for that solution by the QoL specific calculator.\n",
    "\n",
    "The Model Center project uses an optimizing algorithm to converge on an optimal combination of _Societal Benefit_ and a _QoL Index_.   In this process several algorithms were explored to validate results of the model for appropriate fidelity."
   ]
  },
  {
   "cell_type": "markdown",
   "metadata": {},
   "source": [
    "## Model Results\n",
    "\n",
    "The processes and research defined above are preparation for execution of the overall SCDA model to provide an optimal solution to the proposed technology solutions, or use cases, that target benefits aligned with customer preferences for a Smart Cities infrastructure project.  For the City of Atlanta the SCDA tool evaluated the technology solutions utilized in fulfilling the following use cases.\n",
    "\n",
    "* Smart and more efficent lighting using LED street lights\n",
    "* Mobility improvements utilizing Emergency Vehicle Preemptive (EVP) signaling\n",
    "* Crime prevention utilizing surveillence cameras (CCTV) and gunshot detectors\n",
    "\n",
    "Each use case produced costs and benefits that are compared with current operating costs and aggregated into _Societal Benefit_.   The larger the _Societal Benefit_ the more attractive the project, and this value can be expressed in financial terms.  The QoL Index is a separate qualitative measure that can be used for improvement comparisons over a baseline index, or as comparison to other similar municipal areas before and after project implementation."
   ]
  },
  {
   "cell_type": "markdown",
   "metadata": {},
   "source": [
    "### Inputs\n",
    "\n",
    "#### Cost and Benefit Models\n",
    "Inputs to the cost and benefit models include the following values.\n",
    "\n",
    "|Category                 |Input               |Distribution  |Min  |Max  |Avg  |Std Dev   |\n",
    "|-------------------------|--------------------|--------------|-----|-----|-----|----------|\n",
    "|Compelxity/Benfit Scalers|                    |              |     |     |     |          |\n",
    "|                         |Lights (LED)        |Uniform       |0    |1    |     |          |\n",
    "|                         |Traffic (EVP)       |Uniform       |0    |1    |     |          |\n",
    "|                         |Crime (CCTV)        |Uniform       |0    |1    |     |          |\n",
    "|                         |Crime (Gunshot)     |Uniform       |0    |1    |     |          |\n",
    "|Cost Uncertainties       |                    |              |     |     |     |          |\n",
    "|                         |Lights (LED)        |Normal        |     |     |0    |100000    |\n",
    "|                         |Traffic (EVP)       |Normal        |     |     |0    |100000    |\n",
    "|                         |Crime (CCTV)        |Normal        |     |     |0    |100000    |\n",
    "|                         |Crime (Gunshot)     |Normal        |     |     |0    |100000    |\n",
    "|Benefit Uncertainties    |                    |              |     |     |     |          |\n",
    "|                         |Lights (LED)        |Normal        |     |     |0    |100000    |\n",
    "|                         |Traffic (EVP)       |Normal        |     |     |0    |100000    |\n",
    "|                         |Crime (CCTV)        |Normal        |     |     |0    |100000    |\n",
    "|                         |Crime (Gunshot)     |Normal        |     |     |0    |100000    |\n",
    "\n",
    "The Complexity/Benefit Scalers are used as a measure of the complexity for a technolgy solution.  The same value is used to measure benefit of the techology solution.   The reasoning behind this value is that in many cases a cost estimating relationship (CER) is that the level of benefit associated with a technology is related to the complexity of the technology solution.   Additional benefit is usually not free, as additional levels of performance will create additional complexity, and therefore require additional cost to achieve.   The Complexity/Benefit scaler attempts to capture this concept for use in adjusting the analytical benefit and cost models through this derived parametric relationship.\n",
    "\n",
    "Uncertainties are defined as normal distributions, and they are expressed in financial terms.  A Latin Hypercube algorithm is used to evaluate normally distributed random values in the defined distribution to estimate cost and benefit uncertainties separately.  The optimizer also impacts this value by adjusting the average starting value of the distribution to further understand impacts and determine sensitivity to uncertainties.\n",
    "\n",
    "#### QoL Models\n",
    "\n",
    "The QoL models also utilize the complexity/benefit scalers defined above, but in this context they can be referred too as straight benefit scalers.   As defined above in the measures section, optimizing the overall model on utility does not necessarily align directly with a QoL measure.   A cost/benefit model may determine the optimal utility is to deploy a 60 percent solution, but from a pure QoL benefits perspective the cost saved from a technology perspective means that a portion of the potential QoL benefit is forfeited by the constraint.\n",
    "\n",
    "> An area of future improvement is to more fully explore the QoL metric and determine how this metric can accurately relate to the cost/benefit models in financial terms.   The first iteration of the SCDA tool explored this option, but the scope of the problem required postoning full analysis to support project timelines.\n",
    "\n",
    "As mentioned in the [Model Implementation](#Model-Implementation) section above, the QoL Indices are made up of many different measures.   The individual indices then make up the overall QoL Index.   The QoL Model defines a triangular distribution representing the range of impact possible for each of the measures impacted by a technology solution.   The benefit scaler for that technology solution, or use case, will refine how much benefit is actually derived for the technology solution.  The actual distributions utilized are captured in configuration files for the QoL Model.  Each use case has a separate configuration file.  If a use case does not impact a particular measure, the baseline measure is utilized."
   ]
  },
  {
   "cell_type": "markdown",
   "metadata": {},
   "source": [
    "The code below shows an example setup for crime impacts to the QoL Index for a technology evaluation.  Each line item represents a measure that goes into the crime index.  Other indexes are created in the same manner and rolled up to the overall QoL index.\n",
    "\n",
    "```json\n",
    "    crime {\n",
    "        range {\n",
    "            level_of_crime=-2..-10\n",
    "            crime_increasing=-4..-12\n",
    "            safe_alone_daylight=0\n",
    "            safe_alone_night=8..20\n",
    "            worried_home_broken=-2..-6\n",
    "            worried_mugged_robbed=-4..-8\n",
    "            worried_car_stolen=-4..-8\n",
    "            worried_things_car_stolen=-5..-9\n",
    "            worried_attacked=-5..-10\n",
    "            worried_skin_ethnic_religion=0\n",
    "            problem_drugs=-1..-4\n",
    "            problem_property_crimes=-3..-9\n",
    "            problem_violent_crimes=-6..-12\n",
    "            problem_corruption_bribery=0\n",
    "        }\n",
    "```\n",
    "\n",
    "Note that some measures show negative ranges and some show positive ranges.   Some of the measures relate to negative qualities that negatively impact the target QoL index.   Other metrics relate to positive qualities that positively impact the target QoL index.   Specifying a negative range indicates that the technology solution will reduce the negative measure by a value in the stated negative range.   Positive ranges indicate the technology solution will improve the measure by a value within the stated positive range.\n",
    "\n",
    "Each use case evaluated in the SCDA project has a separate configuration file, which can be adjusted to impact the change to QoL derived from the technology.   The configuration files used by the SCDA tool to evaluate the use cases for the City of Atlanta are included in the source code for the project, in the [resources](#Resources) section at the bottom of this document."
   ]
  },
  {
   "cell_type": "markdown",
   "metadata": {},
   "source": [
    "### Optimization\n",
    "\n",
    "#### Cost and Benefit Models\n",
    "\n",
    "The cost and benefit models are rolled up into a _Society Benefit_ measure.   This value is calculated by understanding the current society costs and then the societal costs utilizing the new technology solution.  This society cost with the total Equivalent Annual Cost (EAC) creates an annual summarized cost of a solution.   The objective of the SCDA tool is to optimize the model responses to find a solution with the lowest summarized costs, which is equivalent to the solution that provides the highest _Society Benefit_.   The cost summary equation for each technology solution is identified as follows.\n",
    "\n",
    "$$ {Cost}_{Total} = {Cost}_{Society} + {EAC}_{Cost}$$\n",
    "\n",
    "The _Society Benefit_ is the difference in the total cost from the current baseline cost to the expected cost with the new technology solution.  The SCDA tool will attempt to maximize the _Society Benefit_ across each technology solution\n",
    "\n",
    "$$ {SocietyBenefit} = \\sum_i ({TotalCost}_{Baseline})_i - ({TotalCost}_{Improved})_i$$\n",
    "\n"
   ]
  },
  {
   "cell_type": "markdown",
   "metadata": {},
   "source": [
    "#### QoL Models\n",
    "\n",
    "The final QoL Index from the improved solution is compared to a baseline solution to derive the total benefit to the QoL Index for that technology solution.  The total benefit to the combined technology solutions is the sum of the change in QoL calculated for each technology solution in the evaluation set (represented by $i$ in the equation below).  The SCDA tool attemts to maximize this value to derive an optimal solution.\n",
    "\n",
    "$$\\Delta_{QoL} = \\sum_i ( {Improved}_i - {Baseline}_i)$$"
   ]
  },
  {
   "cell_type": "markdown",
   "metadata": {},
   "source": [
    "### Responses\n",
    "\n",
    "#### Baseline Measures\n",
    "\n",
    "##### Society Cost\n",
    "\n",
    "|Use Case        |Society Cost  (\\$) |\n",
    "|----------------|-------------------|\n",
    "|Lights (LED)    |878,167.00         |\n",
    "|Traffic (EVP)   |769,105,000.00     |\n",
    "|Crime (CCTV)    |542,227,000.00     |\n",
    "|Crime (Gunshot) |216,567,000.00     |\n",
    "\n",
    "##### Quality of Life (QoL)\n",
    "\n",
    "|City              |Base QoL    |\n",
    "|------------------|------------|\n",
    "|Atlanta, GA       |152.56      |\n",
    "|Chicago, IL       |154.99      |\n",
    "|San Francisco, CA |166.29      |\n"
   ]
  },
  {
   "cell_type": "markdown",
   "metadata": {},
   "source": [
    "#### Optimized Measures\n",
    "\n",
    "||Use Cases|Installations|Install Cost (\\$)|Oper/Maint Cost (\\$)|Society Cost (\\$)|Society Benefit (\\$)|QoL Impact |\n",
    "|---------------|----------------|------|--------------|-------------|----------------|----------------|-----------|\n",
    "|**Without QoL**|                |      |              |             |                |                |           |\n",
    "|               |Lights (LED)    |8982  |7238838.11    |279240.41    |136,339.44      |741,827.56      |n/a        |\n",
    "|               |Traffic (EVP)   |6468  |76426196.66   |9543490.98   |455,461,161.30  |313,643,838.69  |n/a        |\n",
    "|               |Crime (CCTV)    |5150  |11795668.35   |12479369.47  |326,940,993.70  |215,286,006.28  |n/a        |\n",
    "|               |Crime (Gunshot) |263   |3224042.57    |3387041.96   |159,963,491.70  |56,603,508.31   |n/a        |\n",
    "|**With QoL**   |                |      |              |             |                |                |           |\n",
    "|               |Lights (LED)    |8755  |6915222.67    |153831.30    |197,120.72      |681,046.28      |9.07282402 |\n",
    "|               |Traffic (EVP)   |8727  |135405005.40  |16898066.08  |444,885,437.60  |324,219,562.40  |10.2579814 |\n",
    "|               |Crime (CCTV)    |7337  |22490711.01   |23789092.14  |318,005,090.75  |224,221,909.25  |5.901531464|\n",
    "|               |Crime (Gunshot) |133   |1716962.83    |1797010.85   |159,963,491.69  |56,603,508.31   |2.206690383|"
   ]
  },
  {
   "cell_type": "markdown",
   "metadata": {},
   "source": [
    "# Recommendations\n",
    "\n",
    "After evaluating preferences for the City of Atlanta, through a variety of means, a subset of use cases was derived for further review to illustrate the functionality and benefits of the SCDA tool.  The use cases of Lights (LED), Traffic (EVP), Crime (CCTV), and Crime (Gunshot) align with City of Atlanta preferences and provide robust examples of how complext technology solutions can be evaluated to make better and more informed Smart Cities infrastructure project decisions.  \n",
    "\n",
    "While not inclusive of all possible use cases, the chosen sample use cases provide visibility into recommendations for further evaluation.  Results from the model provide the size of the optimal deployment for each use case to maximize _Societal Benefit_.  The model concludes that the lighting project, utilizing a LED technology solution, will provide benefit to the City of Atlanta through a reduction in _Society Cost_.  \n",
    "\n",
    "Model results also indicate a Crime reduction project, utilizing CCTV camera technology, provides a substantial _Societal Benefit_.  The benefit is mainly attributed to the sharp reduction in costs assocated with crimes that are reduced through the use of this technology solution.   The CCTV cameras reduce incidences of property crime that reduce costs for victims, and they also reduce costs for law enforcement and judicial entities that process crimes.  The Gunshot detection technology does not reduce as many crimes as the CCTV cameras, but due to the cost of violent crime, the cost impact per crime reduced is much higher with the Gunshot detection technology solution.\n",
    "\n",
    "Finally, the Traffic use case evaluation for the Emergency Vehicle Preemption (EVP) system is inconclusive.  The current benefit model focuses on crash avoidance, because the reduction in response time is difficult to quantify into financial terms.   However, a reduction in response time could have a drastic impact on patient outcomes for ambulance service calls or property damage for fire service calls.   Additionally, capital expenses relating to new facilities or aging equipment could be avoided or reduced by allowing existing EMS stations to support a wider coverage area with the same response time, through reduced response times provided by an EMS system.  These additonal benefits do need to be tempered with the complexity of an EVP system deployment, but further research into additional benefits is merited before eliminating this technology solution."
   ]
  },
  {
   "cell_type": "markdown",
   "metadata": {},
   "source": [
    "# Conclusion\n",
    "\n",
    "The capability gaps around Smart Cities project evaluation for municipal governments is clear.  Municipal governments do not have an accurate way to evaluate the costs and beneﬁts of trending Smart Cities projects.  Without the ability to consistently and accurately measure beneﬁts of projects, qualitative and subjective evaluations tend to direct short term policy decisions, leading to sub-optimal outcomes for the ﬁnances of a municipality and decreased public perception of the municipality.  Closing this project evaluation capability gap will provide consistent and quantiﬁable deﬁnitions of beneﬁt (utility) for a speciﬁc Smart Cities project.  Enabling objective comparison across projects and across stakeholders is critical to closing the project evaluation gap.  The SCDA tool represents an implementation of advanced models and simulations with the express purpose of drastically reducing the identiﬁed capability gap, vastly improving the ability of municipalities to evaluate and implement Smart Cities projects.\n",
    "\n",
    "The SCDA project has proven that through the use of the SCDA tool, municipalities have more applicable information available to make more informed decisions regarding Smart Cities infrastructure projects.  The SCDA tool provides analysis of possible use cases, and associated technology solutions, at a minimal cost.  Instead of performing detailed technical analysis of many solutions, eventually wasting time and money on infeasible solutions, the SCDA tool allows municipalities to quickly evaluate and filter potential projects and focus research investments on projects that align with preferences and show positive cost and benefit models based on the deployment scenarios.\n",
    "\n",
    "While further research can be performed to further improve the fidelity of all cost and benefit models, the logic to generate cost and benefit equations from existing project sources, and evaluate new projects based on the parametric cost and benefit models derived from this data very beneficial.  Municipalities can use this process to reduce costs around project evaluation, hopefully avoiding surprises and failures by making more informed decisions.\n",
    "\n",
    "The SCDA tool also provides an exploration into correlating a QoL index into Smart Cities infrastructure project decisions.   Many projects may not seem like resounding financial successes during initial evaluation, but the projects are beneficial for the municipality due to the public perception created by the service provided and the increased demand for people and businesses that live and operate in the municipality.  The SCDA tool provides a mechanism for municipalities to quantitatively evaluate the impact of an infrastructure project on QoL for residents, and ultimately make more informed decisions."
   ]
  },
  {
   "cell_type": "markdown",
   "metadata": {},
   "source": [
    "# Resources"
   ]
  },
  {
   "cell_type": "markdown",
   "metadata": {},
   "source": [
    "* [Quality of Life Application Sources](resources/QualityOfLife-App-2.0-Sources.zip)\n",
    "* [Model Center Bundle (without QoL)](resources/SCDA-withoutQoL-Final.zip)\n",
    "* [Model Center Bundle (with QoL)](resources/SCDA-withQoL-Final.zip)\n",
    "* [Model Center Trade Studies](resources/SCDA-tradeStudies.zip)\n",
    "* [SysML Model of SCDA Domain](resources/SCDA-SysML/SCDA_SysML_View.html)"
   ]
  },
  {
   "cell_type": "markdown",
   "metadata": {},
   "source": [
    "# References"
   ]
  },
  {
   "cell_type": "markdown",
   "metadata": {},
   "source": [
    "`[1]`  Hamblen, M. (2015, October 1). Just what IS a smart city?. Retreived from http://www.computerworld.com/article/2986403/internet-of-things/just-what-is-a-smart-city.html\n",
    "    \n",
    "`[2]`  Quinton, S. (2016, April 26). What is a Smart City?. Retrieved from http://www.pewtrusts.org/en/research-and-analysis/blogs/stateline/2016/04/26/what-is-a-smart-city\n",
    "    \n",
    "`[3]`  Zubizarreta, I., Seravalli, A., & Arrizabalaga, S. (2016). Smart City Concept: What It Is and What It Should Be. Journal of Urban Planning and Development, 142(1), 04015005. doi:10.1061/(asce)up.1943-5444.0000282\n",
    "    \n",
    "`[4]`  Albino, V., Berardi, U., Dangelico, R. M. (2015). Smart Cities: Definitions, Dimensions, Performance, and Initiatives. Journal of Urban Technology, 22(1), 3021. \n",
    "    \n",
    "`[5]`  Gil-Garcia, J., Pardo, T., Nam, T. (2015). What makes a city smart? Identifying core components and proposing an integrative and comprehensive conceptualization. Information Policy: The International Journal of Government & Democracy in the Information Age, 20(1), 61-87. \n",
    "    \n",
    "`[6]`  Karadag, T. (2013). An Evaluation of the Smart City Approach. Thesis Submitted to the Graduate School of Natural and Applied Sciences of Middle East Technical University. Retrieved from http://citeseerx.ist.psu.edu/viewdoc/download?doi=10.1.1.633.3072&rep=rep1&type=pdf\n",
    "    \n",
    "`[7]`  Adamovic, Mladen. (2016). \"Quality of Life.\" Retrieved from http://www.numbeo.com/quality-of-life\n",
    "        \n",
    "`[8]`  Wibowo, S., & Grandhi, S. (2015, July). A multicriteria analysis approach for benchmarking smart transport cities. In Science and Information Conference (SAI), 2015 (pp. 94-101). IEEE.\n",
    "    \n",
    "`[9]`  Liu, Y., Wei, J., & Rodriguez, A. F. C. (2014). Development of a strategic value assessment model for smart city. International Journal of Mobile Communications, 12(4), 346-359.\n",
    "    \n",
    "`[10]` Marsal-Llacuna, M. L., & Segal, M. E. (2016). The Intelligenter Method (I) for making “smarter” city projects and plans. Cities, 55, 127-138.\n",
    "    \n",
    "`[11]` Statistics on Emergency Vehicle Accidents in the United States. (2015, November 2). Retrieved from http://www.arnolditkin.com/Personal-Injury-Blog/2015/November/Statistics-on-Emergency-Vehicle-Accidents-in-the.aspx.\n",
    "    \n",
    "`[12]` Florio, M., Finzi, U., Genco, M., Levarlet, F., Maffii, S., Tracogna, A., & Vignetti, S. (2008). Guide to cost-benefit analysis of investment projects. Evaluation Unit, DG Regional Policy, European Commission.\n",
    "    \n",
    "`[13]` Hatcher, G., Burnier, C., Greer, E., Hardesty, D., Hicks, D., Jacobi, A., ... & Mercer, M. (2014). Intelligent Transportation Systems Benefits, Costs, and Lessons Learned: 2014 Update Report (No. FHWA-JPO-14-159).\n",
    "    \n",
    "`[14]` Engel, D. (2013, November). Ris-Based Cost Methods. In IEA CCS Cost Workshop, Paris, France, 2013.  Retrieved from https://sequestration.mit.edu/pdf/2013_Engel_Risk-based_Cost_Methods.pdf\n",
    "    \n",
    "`[15]` Risk-Adjusted Discount Rate. (2016, July). Retrieved from http://www.readyratios.com/reference/analysis/risk_adjusted_discount_rate.html\n",
    "\n",
    "`[16]` Mid-America Regional Council. (2013, October).  Smart LIGHTS for Smart CITIES - Final Report.  Retrieved from http://www.marc.org/Environment/Energy/Conservation-and-Efficiency/Smart-Lights-for-Smart-Cities\n",
    "\n",
    "`[17]` Chicago Infrastructure Trust. (2015, September 17).  Chicago Smart Lighting Project Request For Information.  Retrieved from http://chicagoinfrastructure.org/wp-content/uploads/2014/10/ChicagoSmartLightingRFI-Final_20150917.pdf\n",
    "\n",
    "`[18]` Albouy, & Lue. (2015). Driving to opportunity: Local rents, wages, commuting, and sub-metropolitan quality of life. Journal of Urban Economics, 89, 74-92.\n",
    "\n",
    "`[19]` Kuminoff, N., Smith, V., & Timmins, C. (2013). The New Economics of Equilibrium Sorting and Policy Evaluation Using Housing Markets. Journal of Economic Literature, 51(4), 1007-1062.\n",
    "\n",
    "`[20]` Zillow Data: Median Home Value Per Sq Ft By City. (2016). Retrieved from http://files.zillowstatic.com/research/public/City/City_MedianValuePerSqft_AllHomes.csv\n",
    "\n",
    "`[21]` Bogdan Ioan Cojocea. (2014). Comparative analysis of the financial discount rate and of the net present value of a public investment project throughout its life. Theoretical and Applied Economics, XXI(12), 165-184.\n",
    "\n",
    "`[22]` Bock, K., & Trueck, S. (2011). Assessing Uncertainty and Risk in Public Sector Investment Projects. Technology and Investment, 2(2), 105.\n",
    "\n",
    "`[23]` Kazlauskienė, V. (2015). Application of Social Discount Rate for Assessment of Public Investment Projects. Procedia - Social and Behavioral Sciences, 213, 461-467.\n",
    "\n",
    "`[24]` Caplin, A., & Leahy, J. (2004). The Social Discount Rate. Journal of Political Economy, 112(6), 1257-1268.\n",
    "\n",
    "`[25]` Scarborough, H. (2010). Decomposing the social discount rate. Australian Agricultural and Resource Economics Society, Australian Agricultural and Resource Economics Society, 2010 Conference (54th), February 10-12, 2010, Adelaide, Australia.\n",
    "\n",
    "`[26]` Jaldell, Lebnak, & Amornpetchsathaporn. (2014). Time Is Money, But How Much? The Monetary Value of Response Time for Thai Ambulance Emergency Services. Value in Health, 17(5), 555-560.\n",
    "\n",
    "`[27]` US Department of Transportation, Intelligent Transport Systems. (2006). Traffic signal preemption for emergency vehicles: A cross-cutting study: Putting the \"First\" in \"First response.\" Washington, D.C.: Federal Highway Administration. Retrieved from http://www.gtt.com/wp-content/uploads/Traffic-signal-preemption-for-emergency-vehicles-A-cross-cutting-study.pdf\n",
    "\n",
    "`[28]` Focus On Results (FOR) Atlanta: Atlanta Fire and Rescue Deparatment. (2016). Retrieved from http://foratlanta.github.io/charts/atlanta-fire-rescue.html\n",
    "\n",
    "`[29]` Hazards of high-intensity discharge lights. (2013, April 1). http://www.safetyandhealthmagazine.com/articles/hazards-of-high-intensity-discharge-lights\n",
    "\n",
    "`[30]` Metal Halide & High Pressure Sodium Discharge Lamps. (2016). Retrieved from http://www.ushio.com/support/lampsafety.php#2\n",
    "\n",
    "`[31]` Nilsson, G. H., Carlsson, L., Dal, H., & Ullén, H. (2003). Skin diseases caused by ultraviolet radiation: the cost of illness. International journal of technology assessment in health care, 19(04), 724-730.\n",
    "\n",
    "`[32]` Material Safety Data Sheet for Transportation of Dangerous Goods: OSRAM SOX Low Pressure Sodium Vapour Lamps. (2011, September 22). Retrieved from https://assets.sylvania.com/assets/Documents/MSDS_SOX_Osram.914b4600-5475-499d-9f88-a05d849fa492.pdf\n",
    "\n",
    "`[33]` Environmental Benefits of Using LED Lights (2013, November 27). Retrieved from https://www.illumitex.com/environmental-benefits-using-led-lights/\n",
    "\n",
    "`[34]` Greasley, S. (2013, August 29). How Much Does Packaging Cost?. Retrieved from http://howtobuypackaging.com/how-much-does-packaging-cost/\n",
    "\n",
    "`[35]` Highway Work Safety Zones. (2014, November 17). Retrieved from https://www.cdc.gov/niosh/topics/highwayworkzones\n",
    "\n",
    "`[36]` Facts and Statistics - Work Zone Inuries and Fatalities. (2015, October 20). Retrieved from http://www.ops.fhwa.dot.gov/wz/resources/facts_stats/injuries_fatalities.htm\n",
    "\n",
    "`[37]` Preventing and Reducing Costly Injuries and Illnesses. (2008). Retrieved from http://www.dir.ca.gov/dosh/etools/09-031/cost.htm\n",
    "\n",
    "`[38]` Rieck, R. (2005, December). Universal Waste Rule for Lamps: WAC 173-303-573(5) (Pub. 98-407c). Retrieved from https://fortress.wa.gov/ecy/publications/documents/98407c.pdf  \n",
    "\n",
    "`[39]` Mercury-containing Lights and Lamps as Universal Waste. (2016). Retrieved from http://www.ecy.wa.gov/programs/hwtr/dangermat/universal_waste_lamps.html\n",
    "\n",
    "`[40]` Gould, E. (2009). Childhood lead poisoning: conservative estimates of the social and economic benefits of lead hazard control. Environmental Health Perspectives, 117(7), 1162.\n",
    "\n",
    "`[41]` Universal Waste Lamp Recyclers. (2013, February 18). Retrieved from https://epd.georgia.gov/sites/epd.georgia.gov/files/related_files/site_page/lamprecyclers.pdf\n",
    "\n",
    "`[42]` DAT Trendlines: National Flatbed Rates. (2016, July 19). Retrieved from http://www.dat.com/resources/trendlines/flatbed/national-rates \n",
    "\n",
    "`[43]` City's \\$110 million street lamp plan draws fire. (2016, April 19). Retrieved from http://montreal.ctvnews.ca/city-s-110-million-street-lamp-plan-draws-fire-1.2866288\n",
    "\n",
    "`[44]` Ballam, E. (2011, February 9). Ambulance Crash Roundup. Retrieved from http://www.emsworld.com/article/10225399/ambulance-crashes\n",
    "\n",
    "`[45]` Atlanta Police Department, Crime Data Downloads. (2016). Retrieved from http://www.atlantapd.org/crimedatadownloads.aspx\n",
    "\n",
    "`[46]` Buckhead, GA Profile: Facts, Map & Data. (2016, July 1).  Retrieved from http://georgia.hometownlocator.com/ga/morgan/buckhead.cfm\n",
    "\n",
    "`[47]` Downtown Atlanta. (2015, December 28). Retrieved from https://en.wikipedia.org/wiki/Downtown_Atlanta\n",
    "\n",
    "`[48]` Petho, A., Fallis, D. S., Keating, D. (2013, November 2). Gunfire Detection System Captures about 39,000 Shooting Incidents in the District. Retrieved from https://www.washingtonpost.com/investigations/shotspotter-detection-system-documents-39000-shooting-incidents-in-the-district/2013/11/02/055f8e9c-2ab1-11e3-8ade-a1f23cda135e_story.html\n",
    "\n",
    "`[49]` Midtown Atlanta. (2016, July 23). Retrieved from https://en.wikipedia.org/wiki/Midtown_Atlanta\n",
    "\n",
    "`[50]` Parascandola, R. (2015, March 16). De Blasio, NYPD unveil \\$1.5M ShotSpotter system, detects gunshots via sensors around city and alerts police automatically. Retrieved from http://www.nydailynews.com/new-york/nypd-unveils-1-5m-shotspotter-system-bronx-article-1.2151679\n",
    "\n",
    "`[51]` Pitt, F. (2014). Sensors and Journalism.  Columbia Journalism School, Tow Center for Digital Journalism.\n",
    "\n",
    "`[52]` Moraff, C. (2015, October 7). ShotSpotter Coming to a Streetlight Near You?. Retrieved from https://nextcity.org/daily/entry/shotspotter-installed-in-city-streetlights-ge\n",
    "\n",
    "`[53]` Brassard, M. (1989). The Memory Jogger Plus+. Methuen, MA: Qoal/QPC.\n",
    "\n",
    "`[54]` Welsh, B., & Farrington, D. (2008). Effects of improved street lighting on crime: a systematic review. Campbell systematic reviews, 4(13).\n",
    "\n",
    "`[55]` Becsi, Z. (1999). Economics and Crime in the States. Economic Review-Federal Reserve Bank of Atlanta, 84(1), 38.\n",
    "\n",
    "`[56]` Atlanta Neighborhood Quality of Life and Health. (2016). Retrieved from http://www.cgis.gatech.edu/NQOLH/\n",
    "\n",
    "`[57]` Crime in the United States, by Metropolitan Statistical Area. (2010). Retrieved from https://ucr.fbi.gov/crime-in-the-u.s/2010/crime-in-the-u.s.-2010/tables/table-6\n",
    "\n",
    "`[58]` La Vigne, N. G., Lowry, S. S., Markman, J. A., & Dwyer, A. M. (2011). Evaluating the use of public surveillance cameras for crime control and prevention. Washington, DC: US Department of Justice, Office of Community Oriented Policing Services.\n",
    "\n",
    "`[59]` Kahn, M. (2014, October). Economist Says Quality of Life Makes Cities Thrive. Retrieved from https://www.frbatlanta.org/news/paforum/2014/141022-kahn.aspx\n",
    "\n",
    "`[60]` Areavibes.com, City Comparison Tool, City Livability Scores. (2016). Retrieved from http://www.areavibes.com/city-comparison/\n",
    "\n",
    "`[61]` City-Data.com, Crime Statistics. (2016). Retrieved from http://www.city-data.com/crime/\n",
    "\n",
    "`[62]` Tech Tip 12 - Life cycle costs of surveillance systems. (2013, July). Retrieved from http://www.securitysa.com/6074r\n",
    "\n",
    "`[63]` JVC, MTBF - Security Products. (2012, March) Retrieved from http://www.networkwebcams.co.uk/blog/wp-content/uploads/2012/09/nwsystemsgroup_jvc-mtbf-2012.pdf\n",
    "\n",
    "`[64]` Grabowski, J. (2016). Judging Quality And Performance Of Video Security Systems By The (other) Numbers. http://us.sourcesecurity.com/news/articles/co-983-ga.14478.html\n",
    "\n",
    "`[65]` WTICRBLAIR., Berman, B. (2013, May 22). FOX CT Investigation: Is Costly Gunshot Detection System Worth the Cost?.  Retrieved from FOX CT Investigation: Is Costly Gunshot Detection System Worth the Cost?\n",
    "\n",
    "`[66]` Shapiro, R. J., & Hassett, K. A. (2012). The economic benefits of reducing violent crime: A case study of 8 American cities.\n",
    "\n",
    "`[67]` Sims, V. (2015, November 2). Gun deaths in Metro Atlanta by the numbers. Retrieved from http://meredithaz.worldnow.com/story/30410576/gun-deaths-in-metro-atlanta-by-the-numbers"
   ]
  },
  {
   "cell_type": "markdown",
   "metadata": {},
   "source": [
    "# Appendices"
   ]
  },
  {
   "cell_type": "markdown",
   "metadata": {},
   "source": [
    "## Appendix 1 - Supporting Applications\n",
    "\n",
    "The quality of life application was designed with 2 components.   One component was designed to extract data from various sources and transform the data into a common format to support model research.  The second component is the actual QoL calculator that is used by Model Center to calculate the QoL index for differet technology solutions to explore a trade space and optimize a final configuration.  \n",
    "\n",
    "Both of the application components are written in Groovy, and utilize a Gradle build and deployment framework.  The components are bundled under the same build framework and provided as an application bundle in the [Resources](#Resources) section.  \n",
    "\n",
    "Execution targets are defined in the `build.gradle` file at the root of the application.   A `README.TXT` file is also provided in the application distribution bundle for assistance running the deployed application.  Class diagrams for each of the components are provided below.\n",
    "\n",
    "### QoL Calculator Application\n",
    "\n",
    "#### Design\n",
    "![](images/Data-Class-Diagram.png \"Data Class Diagram\")\n",
    "\n",
    "#### Execution\n",
    "The qol calculator application is bundled as a binary distribution.  The application is executable from the command line using the gradle build script from the source code or from the binary distribution.  In most instances the source code is used for testing, and the binary distribution is used on a deployed server.   In the case of the SCDA tool, a version of this code was deployed to a Model Center server and the binary was executed through a Model Center wrapper script.  To execute the application from the root application source code folder:\n",
    "\n",
    "    ./gradlew run\n",
    "\n",
    "The gradle build script is configured to support creation a local copy of the binary distribution and an application archive.  The local installation is created in the `build/installation` directory and the application archive is created in the `build/distributions` folder.   To create both the local installation and the application archive, execute the following command from the root application folder:\n",
    "\n",
    "    ./gradlew installApp distZip\n",
    "    \n",
    "For configuration and usage of the applicaiton archive, please read the `README.TXT` file located in the root folder of the application archive, after unpacking the archive.  This file describes differences between execution for windows and unix platforms, it also provides guidance on how to configure the application for different executions.  To execute the qol calculator with default configuration, run the following command from the root application archive unpacked folder:\n",
    "\n",
    "    bin/qol-calculator config/qol.properties\n"
   ]
  },
  {
   "cell_type": "markdown",
   "metadata": {},
   "source": [
    "### Data Retrieval Application\n",
    "\n",
    "#### Design\n",
    "![](images/QoL-Class-Diagram.png \"QoL Class Diagram\")\n",
    "\n",
    "#### Execution\n",
    "The data retrieval application is not bundled as a binary distribution.  Instead it is intended for use as a command line tool to extract data for research in the notebook or for use in other tools.  Currently there are 2 main data exports configured (Zillow and Numbeo).  The target export can be specified on the command line during execution.  If a value is not selected, Numbeo data will be retrieved by default.\n",
    "\n",
    "```bash\n",
    "#USAGE = gradle exportData [-Pargs=Numbeo|Zillow]\n",
    "./gradlew exportData -Pargs=Zillow\n",
    "```\n",
    "\n",
    "This application also includes another tool to allow retrieval of individual REST web services from Numbeo.  At times it is useful to execute single services for small sets of data for validation or research.   The `HttpClient` class allows a custom API path and a custom set of query strings for the REST web service call.\n",
    "\n",
    "```bash\n",
    "#USAGE = gradle restCall -Pargs=\"{api_path} [key=value, ...]\"\n",
    "gradle restCall -Pargs=\"/api/city_prices city_id=3391\"\n",
    "```"
   ]
  },
  {
   "cell_type": "markdown",
   "metadata": {},
   "source": [
    "## Appendix 2 - SysML Model\n",
    "\n",
    "The SCDA project developed a SysML model to represent the domain in which the SCDA tool will operate.  One benefit this modeling approach provided the team is to better understand the entities in the domain that will impact operation of the SCDA tool.  The SysML model provides block diagrams of the major domain elements, including the Municipality, the Proposed System(s), and the SCDA modeling tool.\n",
    "\n",
    "Through the exploration of block relations in the domain for the SCDA tool, further exploration was performed into parametrics between the blocks.   This higher level parametric abstraction provided a basis for understanding the interactions between entities.   This level of modeling was more detailed than the methods used in the interrelation digraphs during concept exploration, but it was less detailed than the actual models derived and utilized within Model Center.  The parametric diagrams in the SysML model provided a framework, or rough design guidelines for the Model Center model.\n",
    "\n",
    "Another benefit of the SysML model is requirements traceability.  The SysML model provided a mechanism to track and trace individual requirements to specific domain entities or parametric relationships between blocks.  This helped the SCDA project team validate the core requirements as design was progressing into the Model Center and extrenal application development phases.\n",
    "\n",
    "Finally the SysML model serves as a framework for understanding.  Additional research and work to refine the SCDA tool will provide higher levels of benefit to municipalities through greater accuracy and fidelity in the models.  The SysML model can serve as method to convey understanding to new team members, or future researchers, so they can build on the work produced by the SCDA project team as part of the first iteration of the SCDA tool.\n",
    "\n",
    "The SysML model is delivered as an HTML bundle and linked to this document through the [Resources](#Resources) section."
   ]
  }
 ],
 "metadata": {
  "kernelspec": {
   "display_name": "Python 3",
   "language": "python",
   "name": "python3"
  },
  "language_info": {
   "codemirror_mode": {
    "name": "ipython",
    "version": 3
   },
   "file_extension": ".py",
   "mimetype": "text/x-python",
   "name": "python",
   "nbconvert_exporter": "python",
   "pygments_lexer": "ipython3",
   "version": "3.5.1"
  }
 },
 "nbformat": 4,
 "nbformat_minor": 0
}
